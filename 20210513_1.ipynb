{
  "nbformat": 4,
  "nbformat_minor": 0,
  "metadata": {
    "colab": {
      "name": "20210513-1.ipynb",
      "provenance": [],
      "authorship_tag": "ABX9TyPTZ9NUp1K57Mln3qXIq280",
      "include_colab_link": true
    },
    "kernelspec": {
      "name": "python3",
      "display_name": "Python 3"
    },
    "language_info": {
      "name": "python"
    },
    "accelerator": "GPU"
  },
  "cells": [
    {
      "cell_type": "markdown",
      "metadata": {
        "id": "view-in-github",
        "colab_type": "text"
      },
      "source": [
        "<a href=\"https://colab.research.google.com/github/Yunkoo-GIT/Programming/blob/main/20210513_1.ipynb\" target=\"_parent\"><img src=\"https://colab.research.google.com/assets/colab-badge.svg\" alt=\"Open In Colab\"/></a>"
      ]
    },
    {
      "cell_type": "code",
      "metadata": {
        "colab": {
          "base_uri": "https://localhost:8080/"
        },
        "id": "0g-mVu2xRGGe",
        "outputId": "10ca2dc7-842c-45a9-c753-9f71f950c9b2"
      },
      "source": [
        "pip install pytorch"
      ],
      "execution_count": 1,
      "outputs": [
        {
          "output_type": "stream",
          "text": [
            "Collecting pytorch\n",
            "  Downloading https://files.pythonhosted.org/packages/ee/67/f403d4ae6e9cd74b546ee88cccdb29b8415a9c1b3d80aebeb20c9ea91d96/pytorch-1.0.2.tar.gz\n",
            "Building wheels for collected packages: pytorch\n",
            "  Building wheel for pytorch (setup.py) ... \u001b[?25lerror\n",
            "\u001b[31m  ERROR: Failed building wheel for pytorch\u001b[0m\n",
            "\u001b[?25h  Running setup.py clean for pytorch\n",
            "Failed to build pytorch\n",
            "Installing collected packages: pytorch\n",
            "    Running setup.py install for pytorch ... \u001b[?25l\u001b[?25herror\n",
            "\u001b[31mERROR: Command errored out with exit status 1: /usr/bin/python3 -u -c 'import sys, setuptools, tokenize; sys.argv[0] = '\"'\"'/tmp/pip-install-sp539kjk/pytorch/setup.py'\"'\"'; __file__='\"'\"'/tmp/pip-install-sp539kjk/pytorch/setup.py'\"'\"';f=getattr(tokenize, '\"'\"'open'\"'\"', open)(__file__);code=f.read().replace('\"'\"'\\r\\n'\"'\"', '\"'\"'\\n'\"'\"');f.close();exec(compile(code, __file__, '\"'\"'exec'\"'\"'))' install --record /tmp/pip-record-kflfcm1f/install-record.txt --single-version-externally-managed --compile Check the logs for full command output.\u001b[0m\n"
          ],
          "name": "stdout"
        }
      ]
    },
    {
      "cell_type": "code",
      "metadata": {
        "colab": {
          "base_uri": "https://localhost:8080/"
        },
        "id": "WI8ptcGLUPnd",
        "outputId": "81d7c606-b745-4b2e-f4f2-7dc636a5cf8f"
      },
      "source": [
        "!pip3 install http://download.pytorch.org/whl/cu80/torch-0.3.0.post4-cp36-cp36m-linux_x86_64.whl\n",
        "!pip3 install torchvision"
      ],
      "execution_count": 2,
      "outputs": [
        {
          "output_type": "stream",
          "text": [
            "\u001b[31mERROR: torch-0.3.0.post4-cp36-cp36m-linux_x86_64.whl is not a supported wheel on this platform.\u001b[0m\n",
            "Requirement already satisfied: torchvision in /usr/local/lib/python3.7/dist-packages (0.9.1+cu101)\n",
            "Requirement already satisfied: torch==1.8.1 in /usr/local/lib/python3.7/dist-packages (from torchvision) (1.8.1+cu101)\n",
            "Requirement already satisfied: pillow>=4.1.1 in /usr/local/lib/python3.7/dist-packages (from torchvision) (7.1.2)\n",
            "Requirement already satisfied: numpy in /usr/local/lib/python3.7/dist-packages (from torchvision) (1.19.5)\n",
            "Requirement already satisfied: typing-extensions in /usr/local/lib/python3.7/dist-packages (from torch==1.8.1->torchvision) (3.7.4.3)\n"
          ],
          "name": "stdout"
        }
      ]
    },
    {
      "cell_type": "code",
      "metadata": {
        "colab": {
          "base_uri": "https://localhost:8080/"
        },
        "id": "ZWhqwH0U6XE5",
        "outputId": "d95a279f-0dd6-4d6b-8e06-5b30f7d9b744"
      },
      "source": [
        "#-*- coding: utf-8 -*-\n",
        "from sklearn.datasets import fetch_openml\n",
        "mnist = fetch_openml('mnist_784', version=1, cache=True)\n",
        "X = mnist.data\n",
        "y = mnist.target\n",
        "\n",
        "import torch\n",
        "from torch.utils.data import TensorDataset, DataLoader\n",
        "from sklearn.model_selection import train_test_split\n",
        "\n",
        "Xtrain, X_test, y_train, y_test = train_test_split(X, y, test_size=1/7, random_state=0)\n",
        "X_train = torch.Tensor(X_train)\n",
        "X_test = torch.Tensor(X_test)\n",
        "y_train = torch.LongTensor(list(map(int, y_train)))\n",
        "y_test = torch.LongTensor(list(map(int, y_test)))\n",
        "\n",
        "import torch.nn as nn\n",
        "import torch.nn.functional as F\n",
        "from torch import optim\n",
        "from torch.autograd import Variable\n",
        "\n",
        "X_train = X_train.view(-1,1,28,28).float()\n",
        "X_test = X_test.view(-1,1,28,28).float()\n",
        "print(X_train.shape)\n",
        "print(X_test.shape)\n",
        "\n",
        "train = TensorDataset(X_train, y_train)\n",
        "test = TensorDataset(X_test, y_test)\n",
        "BATCH_SIZE = 32\n",
        "loader_train = DataLoader(train, batch_size = BATCH_SIZE, shuffle = False)\n",
        "loader_test = DataLoader(test, batch_size = BATCH_SIZE, shuffle = False)\n",
        "\n",
        "class CNN(nn.Module):\n",
        "  def __init__(self):\n",
        "    super(CNN, self).__init__()\n",
        "    self.conv1 = nn.Conv2d(1,32,kernel_size=5)\n",
        "    self.conv2 = nn.Conv2d(32,32,kernel_size=5)\n",
        "    self.conv3 = nn.Conv2d(32,64,kernel_size=5)\n",
        "    self.fc1 = nn.Linear(3*3*64,256)\n",
        "    self.fc2 = nn.Linear(256,10)\n",
        "\n",
        "    self.loss_fn = nn.CrossEntropyLoss()\n",
        "    self.optimizer = optim.Adam(self.parameters(), lr=0.01)\n",
        "\n",
        "  def forward(self, x):\n",
        "    x = F.relu(self.conv1(x))\n",
        "    x = F.relu(F.max_pool2d(self.conv2(x),2))\n",
        "    x = F.dropout(x, p=.05, training=self.training)\n",
        "    x = F.relu(F.max_pool2d(self.conv3(x),2))\n",
        "    x = F.dropout(x, p=.05, training=self.training)\n",
        "    x = x.view(-1,3*3*64)\n",
        "    x = F.relu(self.fc1(x))\n",
        "    x = F.dropout(x, training=self.training)\n",
        "    x = self.fc2(x)\n",
        "    return F.log_softmax(x, dim=1)\n",
        "\n",
        "#torch.nn.Conv2d(in_channels, out_channels, kernel_size,\n",
        "#                stride=1, padding=0, dilation=1, groups=1,\n",
        "#                bias=True, padding_mode='zeros')\n",
        "\n",
        "def fit(model, loader_train):\n",
        "  optimizer = torch.optim.Adam(model.parameters())\n",
        "  error = nn.CrossEntropyLoss()\n",
        "  EPOCHS = 1\n",
        "  model.train()\n",
        "  for epoch in range(EPOCHS):\n",
        "    correct = 0\n",
        "    for batch_idx, (X_batch, y_batch) in enumerate(loader_train):\n",
        "      var_X_batch = Variable(X_batch).float()\n",
        "      var_y_batch = Variable(y_batch)\n",
        "      optimizer.zero_grad()\n",
        "      output = model(var_X_batch)\n",
        "      loss = error(output, var_y_batch)\n",
        "      loss.backward()\n",
        "      optimizer.step()\n",
        "      predicted = torch.max(output.data, 1)[1]\n",
        "      correct += (predicted == var_y_batch).sum()\n",
        "      if batch_idx % 50 == 0:\n",
        "        print('에포크: {} [{}/{} ({:.0f}%)]\\t 손실함수: {:.6f}\\t Accuracy:{:.3f}%'.format(\n",
        "            epoch, batch_idx*len(X_batch), len(loader_train),\n",
        "            100.*batch_idx / len(loader_train), loss.data,\n",
        "            correct*100. / (BATCH_SIZE*(batch_idx+1))))\n",
        "        \n",
        "def evaluate(model):\n",
        "  correct = 0\n",
        "  for test_imgs, test_labels in loader_test:\n",
        "    test_imgs = Variable(test_imgs).float()\n",
        "    output = model(test_imgs)\n",
        "    predicted = torch.max(output,1)[1]\n",
        "    correct += (predicted == test_labels).sum()\n",
        "  print(\"테스트 데이터 정확도: {:.3f}% \".format(float(correct) /\n",
        "        (len(loader_test)*BATCH_SIZE)))\n",
        "cnn = CNN()\n",
        "evaluate(cnn)\n",
        "fit(cnn, loader_train)\n",
        "cnn.eval()  #모델 테스트 모드로 전환\n",
        "evaluate(cnn)\n",
        "index = 10  #테스트 데이터 중에서 확인해볼 데이터의 인덱스\n",
        "data = X_test[index].view(-1,1,28,28).float()\n",
        "output = cnn(data)  #모델 적용\n",
        "print('{} 번째 학습데이터의 테스트 결과: {}'.format(index, output))\n",
        "_, predicted = torch.max(output, 1)\n",
        "print('{} 번째 데이터의 예측: {}'.format(index, predicted.numpy()))\n",
        "print('실제 레이블: {}'.format(y_test[index]))"
      ],
      "execution_count": 20,
      "outputs": [
        {
          "output_type": "stream",
          "text": [
            "torch.Size([60000, 1, 28, 28])\n",
            "torch.Size([10000, 1, 28, 28])\n",
            "테스트 데이터 정확도: 0.091% \n",
            "에포크: 0 [0/1875 (0%)]\t 손실함수: 2.304294\t Accuracy:9.375%\n",
            "에포크: 0 [1600/1875 (3%)]\t 손실함수: 0.785772\t Accuracy:47.549%\n",
            "에포크: 0 [3200/1875 (5%)]\t 손실함수: 0.614308\t Accuracy:65.377%\n",
            "에포크: 0 [4800/1875 (8%)]\t 손실함수: 0.294450\t Accuracy:73.406%\n",
            "에포크: 0 [6400/1875 (11%)]\t 손실함수: 0.375716\t Accuracy:77.659%\n",
            "에포크: 0 [8000/1875 (13%)]\t 손실함수: 0.253167\t Accuracy:80.627%\n",
            "에포크: 0 [9600/1875 (16%)]\t 손실함수: 0.176691\t Accuracy:82.859%\n",
            "에포크: 0 [11200/1875 (19%)]\t 손실함수: 0.105122\t Accuracy:84.633%\n",
            "에포크: 0 [12800/1875 (21%)]\t 손실함수: 0.085106\t Accuracy:85.934%\n",
            "에포크: 0 [14400/1875 (24%)]\t 손실함수: 0.095087\t Accuracy:87.050%\n",
            "에포크: 0 [16000/1875 (27%)]\t 손실함수: 0.011589\t Accuracy:87.849%\n",
            "에포크: 0 [17600/1875 (29%)]\t 손실함수: 0.412019\t Accuracy:88.481%\n",
            "에포크: 0 [19200/1875 (32%)]\t 손실함수: 0.195625\t Accuracy:89.117%\n",
            "에포크: 0 [20800/1875 (35%)]\t 손실함수: 0.091461\t Accuracy:89.636%\n",
            "에포크: 0 [22400/1875 (37%)]\t 손실함수: 0.014739\t Accuracy:90.139%\n",
            "에포크: 0 [24000/1875 (40%)]\t 손실함수: 0.047298\t Accuracy:90.575%\n",
            "에포크: 0 [25600/1875 (43%)]\t 손실함수: 0.011579\t Accuracy:90.937%\n",
            "에포크: 0 [27200/1875 (45%)]\t 손실함수: 0.292791\t Accuracy:91.279%\n",
            "에포크: 0 [28800/1875 (48%)]\t 손실함수: 0.032426\t Accuracy:91.589%\n",
            "에포크: 0 [30400/1875 (51%)]\t 손실함수: 0.099977\t Accuracy:91.910%\n",
            "에포크: 0 [32000/1875 (53%)]\t 손실함수: 0.042662\t Accuracy:92.192%\n",
            "에포크: 0 [33600/1875 (56%)]\t 손실함수: 0.189158\t Accuracy:92.409%\n",
            "에포크: 0 [35200/1875 (59%)]\t 손실함수: 0.004815\t Accuracy:92.652%\n",
            "에포크: 0 [36800/1875 (61%)]\t 손실함수: 0.098698\t Accuracy:92.857%\n",
            "에포크: 0 [38400/1875 (64%)]\t 손실함수: 0.161720\t Accuracy:93.073%\n",
            "에포크: 0 [40000/1875 (67%)]\t 손실함수: 0.014722\t Accuracy:93.273%\n",
            "에포크: 0 [41600/1875 (69%)]\t 손실함수: 0.087212\t Accuracy:93.450%\n",
            "에포크: 0 [43200/1875 (72%)]\t 손실함수: 0.006649\t Accuracy:93.595%\n",
            "에포크: 0 [44800/1875 (75%)]\t 손실함수: 0.054227\t Accuracy:93.714%\n",
            "에포크: 0 [46400/1875 (77%)]\t 손실함수: 0.014734\t Accuracy:93.868%\n",
            "에포크: 0 [48000/1875 (80%)]\t 손실함수: 0.321811\t Accuracy:94.014%\n",
            "에포크: 0 [49600/1875 (83%)]\t 손실함수: 0.087669\t Accuracy:94.133%\n",
            "에포크: 0 [51200/1875 (85%)]\t 손실함수: 0.017207\t Accuracy:94.256%\n",
            "에포크: 0 [52800/1875 (88%)]\t 손실함수: 0.158446\t Accuracy:94.344%\n",
            "에포크: 0 [54400/1875 (91%)]\t 손실함수: 0.054359\t Accuracy:94.448%\n",
            "에포크: 0 [56000/1875 (93%)]\t 손실함수: 0.181076\t Accuracy:94.544%\n",
            "에포크: 0 [57600/1875 (96%)]\t 손실함수: 0.041704\t Accuracy:94.651%\n",
            "에포크: 0 [59200/1875 (99%)]\t 손실함수: 0.020003\t Accuracy:94.738%\n",
            "테스트 데이터 정확도: 0.978% \n",
            "10 번째 학습데이터의 테스트 결과: tensor([[-3585.4397,     0.0000, -2258.7456, -3250.6733, -2533.2566, -2930.7485,\n",
            "         -3208.8413, -2354.7407, -2592.1084, -2832.3062]],\n",
            "       grad_fn=<LogSoftmaxBackward>)\n",
            "10 번째 데이터의 예측: [1]\n",
            "실제 레이블: 1\n"
          ],
          "name": "stdout"
        }
      ]
    }
  ]
}