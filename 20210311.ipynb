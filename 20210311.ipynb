{
  "nbformat": 4,
  "nbformat_minor": 0,
  "metadata": {
    "colab": {
      "name": "20210311.ipynb",
      "provenance": [],
      "authorship_tag": "ABX9TyM7EopY+XN91jyY7Cy69KSf",
      "include_colab_link": true
    },
    "kernelspec": {
      "name": "python3",
      "display_name": "Python 3"
    }
  },
  "cells": [
    {
      "cell_type": "markdown",
      "metadata": {
        "id": "view-in-github",
        "colab_type": "text"
      },
      "source": [
        "<a href=\"https://colab.research.google.com/github/Yunkoo-GIT/Programming/blob/main/20210311.ipynb\" target=\"_parent\"><img src=\"https://colab.research.google.com/assets/colab-badge.svg\" alt=\"Open In Colab\"/></a>"
      ]
    },
    {
      "cell_type": "code",
      "metadata": {
        "colab": {
          "base_uri": "https://localhost:8080/"
        },
        "id": "cUsjokobwn64",
        "outputId": "012dad64-156b-4e14-e366-59682a1673a3"
      },
      "source": [
        "for x in range(5):\r\n",
        "  print(\"환영합니다.\")"
      ],
      "execution_count": 1,
      "outputs": [
        {
          "output_type": "stream",
          "text": [
            "환영합니다.\n",
            "환영합니다.\n",
            "환영합니다.\n",
            "환영합니다.\n",
            "환영합니다.\n"
          ],
          "name": "stdout"
        }
      ]
    },
    {
      "cell_type": "code",
      "metadata": {
        "colab": {
          "base_uri": "https://localhost:8080/"
        },
        "id": "yms1bnw7w-L-",
        "outputId": "1ea0f406-c0d3-4ff1-cdd8-16e300fa5bbf"
      },
      "source": [
        "for name in [\"철수\",\"영희\",\"길동\",\"유신\"]:\r\n",
        "  print(\"안녕! \"+name)"
      ],
      "execution_count": 2,
      "outputs": [
        {
          "output_type": "stream",
          "text": [
            "안녕! 철수\n",
            "안녕! 영희\n",
            "안녕! 길동\n",
            "안녕! 유신\n"
          ],
          "name": "stdout"
        }
      ]
    },
    {
      "cell_type": "code",
      "metadata": {
        "colab": {
          "base_uri": "https://localhost:8080/"
        },
        "id": "Kcm3KPw0xs1F",
        "outputId": "e6282484-4019-41f1-ff55-3be88d7059b9"
      },
      "source": [
        "for x in [0, 1, 2, 3, 4, 5, 6, 7, 8, 9]:\r\n",
        "  print(x, end=\" \")"
      ],
      "execution_count": 3,
      "outputs": [
        {
          "output_type": "stream",
          "text": [
            "0 1 2 3 4 5 6 7 8 9 "
          ],
          "name": "stdout"
        }
      ]
    },
    {
      "cell_type": "code",
      "metadata": {
        "colab": {
          "base_uri": "https://localhost:8080/"
        },
        "id": "bg0IkGmSx2ne",
        "outputId": "84c3102b-5095-4cc7-88ad-4065a062bdf2"
      },
      "source": [
        "sum = 0\r\n",
        "for x in range(2, 10, 2):\r\n",
        "  print(x, end=\" \")\r\n",
        "  sum = sum + x\r\n",
        "  print(sum)\r\n",
        "print(sum)"
      ],
      "execution_count": 9,
      "outputs": [
        {
          "output_type": "stream",
          "text": [
            "2 2\n",
            "4 6\n",
            "6 12\n",
            "8 20\n",
            "20\n"
          ],
          "name": "stdout"
        }
      ]
    },
    {
      "cell_type": "code",
      "metadata": {
        "colab": {
          "base_uri": "https://localhost:8080/"
        },
        "id": "FPb7z_MyyYOM",
        "outputId": "399f734b-6435-4bd7-d259-d2ca788ccf31"
      },
      "source": [
        "sum = 0\r\n",
        "\r\n",
        "limit = int(input(\"어디까지 계산할까요 : \"))\r\n",
        "for i in range(1, limit+1):\r\n",
        "  sum += i  # sum = sum + i\r\n",
        "\r\n",
        "print(\"1부터 \", limit, \"까지의 정수의 합 = \", sum)"
      ],
      "execution_count": 15,
      "outputs": [
        {
          "output_type": "stream",
          "text": [
            "어디까지 계산할까요 : 12\n",
            "1부터  12 까지의 정수의 합 =  78\n"
          ],
          "name": "stdout"
        }
      ]
    },
    {
      "cell_type": "code",
      "metadata": {
        "colab": {
          "base_uri": "https://localhost:8080/"
        },
        "id": "2pGiCLwB0Pa2",
        "outputId": "65dd47f2-db90-4cae-a52a-e0c09e0b7d4d"
      },
      "source": [
        "i = 0\r\n",
        "while i < 5 :\r\n",
        "  print(\"환영합니다.\")\r\n",
        "  i += 1\r\n",
        "print(\"반복이 종료되었습니다.\")"
      ],
      "execution_count": 22,
      "outputs": [
        {
          "output_type": "stream",
          "text": [
            "환영합니다.\n",
            "환영합니다.\n",
            "환영합니다.\n",
            "환영합니다.\n",
            "환영합니다.\n",
            "반복이 종료되었습니다.\n"
          ],
          "name": "stdout"
        }
      ]
    },
    {
      "cell_type": "code",
      "metadata": {
        "colab": {
          "base_uri": "https://localhost:8080/"
        },
        "id": "i1dvgmWa2tYk",
        "outputId": "d83b1962-d18c-4113-b3f9-e3490b08ab90"
      },
      "source": [
        "i = 0\r\n",
        "while i < 10 :\r\n",
        "  print(i, end=\" \")\r\n",
        "  i += 1\r\n",
        "print(\"\\n종료:\", i)"
      ],
      "execution_count": 24,
      "outputs": [
        {
          "output_type": "stream",
          "text": [
            "0 1 2 3 4 5 6 7 8 9 \n",
            "종료: 10\n"
          ],
          "name": "stdout"
        }
      ]
    },
    {
      "cell_type": "code",
      "metadata": {
        "colab": {
          "base_uri": "https://localhost:8080/"
        },
        "id": "O1Xd6UUL4AtK",
        "outputId": "847c9564-17db-4ecb-d5a3-a70b505d9d94"
      },
      "source": [
        "i = 1\r\n",
        "sum = 0\r\n",
        "\r\n",
        "while i<= 10 :\r\n",
        "  print(i, end=\" : \")\r\n",
        "  sum += i\r\n",
        "  print(sum)\r\n",
        "  i += 1\r\n",
        "print(\"합계 = \", sum)"
      ],
      "execution_count": 27,
      "outputs": [
        {
          "output_type": "stream",
          "text": [
            "1 : 1\n",
            "2 : 3\n",
            "3 : 6\n",
            "4 : 10\n",
            "5 : 15\n",
            "6 : 21\n",
            "7 : 28\n",
            "8 : 36\n",
            "9 : 45\n",
            "10 : 55\n",
            "합계 =  55\n"
          ],
          "name": "stdout"
        }
      ]
    },
    {
      "cell_type": "code",
      "metadata": {
        "colab": {
          "base_uri": "https://localhost:8080/"
        },
        "id": "_magO0FX4hTU",
        "outputId": "f1174ce8-648f-4e5f-f251-3e9262b8720b"
      },
      "source": [
        "i = 1\r\n",
        "factorial = 1\r\n",
        "\r\n",
        "while (i <= 10):\r\n",
        "  factorial = factorial * i\r\n",
        "  i += 1\r\n",
        "print(\"10!은 %d입니다\" %factorial)"
      ],
      "execution_count": 31,
      "outputs": [
        {
          "output_type": "stream",
          "text": [
            "10!은 3628800입니다\n"
          ],
          "name": "stdout"
        }
      ]
    },
    {
      "cell_type": "code",
      "metadata": {
        "colab": {
          "base_uri": "https://localhost:8080/"
        },
        "id": "OaWsKpXI6St3",
        "outputId": "ff4c9b30-c8ab-471d-d222-2254abc6c136"
      },
      "source": [
        "i = 1\r\n",
        "while i <= 9:\r\n",
        "  print(\"3*%d=%d\" %(i, 3*i))\r\n",
        "  i += 1"
      ],
      "execution_count": 32,
      "outputs": [
        {
          "output_type": "stream",
          "text": [
            "3*1=3\n",
            "3*2=6\n",
            "3*3=9\n",
            "3*4=12\n",
            "3*5=15\n",
            "3*6=18\n",
            "3*7=21\n",
            "3*8=24\n",
            "3*9=27\n"
          ],
          "name": "stdout"
        }
      ]
    },
    {
      "cell_type": "code",
      "metadata": {
        "colab": {
          "base_uri": "https://localhost:8080/"
        },
        "id": "1nh9DRmt7WVC",
        "outputId": "9045883c-6bd5-4532-bce3-57f4ee04b219"
      },
      "source": [
        "sum = 0\r\n",
        "number = 1\r\n",
        "\r\n",
        "while number <= 100:\r\n",
        "  if number % 3 == 0:\r\n",
        "    sum = sum + number\r\n",
        "  number = number + 1\r\n",
        "print(\"1부터 100사이의 모든 3의 배수의 합은 %d입니다.\" %sum)"
      ],
      "execution_count": 33,
      "outputs": [
        {
          "output_type": "stream",
          "text": [
            "1부터 100사이의 모든 3의 배수의 합은 1683입니다.\n"
          ],
          "name": "stdout"
        }
      ]
    },
    {
      "cell_type": "code",
      "metadata": {
        "id": "4tFM7HHO8Al5"
      },
      "source": [
        "def get_sum(start, end):\r\n",
        "  sum = 0\r\n",
        "  for i in range(start, end+1):\r\n",
        "    sum += i\r\n",
        "  return sum"
      ],
      "execution_count": 34,
      "outputs": []
    },
    {
      "cell_type": "code",
      "metadata": {
        "colab": {
          "base_uri": "https://localhost:8080/"
        },
        "id": "o3OmQS0H8-Xa",
        "outputId": "d21ecec4-f105-466b-c4e3-eb1175a392eb"
      },
      "source": [
        "value = get_sum(1, 10)\r\n",
        "print(value)"
      ],
      "execution_count": 35,
      "outputs": [
        {
          "output_type": "stream",
          "text": [
            "55\n"
          ],
          "name": "stdout"
        }
      ]
    },
    {
      "cell_type": "code",
      "metadata": {
        "colab": {
          "base_uri": "https://localhost:8080/"
        },
        "id": "oAN9_Ji-9uFJ",
        "outputId": "cceb865e-bab7-43d3-c7e8-8e7c3aa62938"
      },
      "source": [
        "value = get_sum(21, 50)\r\n",
        "print(value)"
      ],
      "execution_count": 36,
      "outputs": [
        {
          "output_type": "stream",
          "text": [
            "1065\n"
          ],
          "name": "stdout"
        }
      ]
    },
    {
      "cell_type": "code",
      "metadata": {
        "colab": {
          "base_uri": "https://localhost:8080/"
        },
        "id": "ey4QlDIV90vW",
        "outputId": "c950df4d-f0a8-44f5-9af2-1182e966a954"
      },
      "source": [
        "def FtoC(temp_f):\r\n",
        "  temp_c = (5.0 * (temp_f - 32.0)) / 9.0\r\n",
        "  return temp_c\r\n",
        "\r\n",
        "temp_f = float(input(\"화씨온도를 입력하시오 : \"))\r\n",
        "\r\n",
        "print(FtoC(temp_f))"
      ],
      "execution_count": 44,
      "outputs": [
        {
          "output_type": "stream",
          "text": [
            "화씨온도를 입력하시오 : 212\n",
            "100.0\n"
          ],
          "name": "stdout"
        }
      ]
    },
    {
      "cell_type": "code",
      "metadata": {
        "id": "3HbsfJq-_J5p"
      },
      "source": [
        ""
      ],
      "execution_count": null,
      "outputs": []
    }
  ]
}