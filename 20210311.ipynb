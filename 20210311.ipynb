{
  "nbformat": 4,
  "nbformat_minor": 0,
  "metadata": {
    "colab": {
      "name": "20210311.ipynb",
      "provenance": [],
      "authorship_tag": "ABX9TyOoZw8mNDGPRYRIUu7IjCS+",
      "include_colab_link": true
    },
    "kernelspec": {
      "name": "python3",
      "display_name": "Python 3"
    }
  },
  "cells": [
    {
      "cell_type": "markdown",
      "metadata": {
        "id": "view-in-github",
        "colab_type": "text"
      },
      "source": [
        "<a href=\"https://colab.research.google.com/github/Yunkoo-GIT/Programming/blob/main/20210311.ipynb\" target=\"_parent\"><img src=\"https://colab.research.google.com/assets/colab-badge.svg\" alt=\"Open In Colab\"/></a>"
      ]
    },
    {
      "cell_type": "code",
      "metadata": {
        "colab": {
          "base_uri": "https://localhost:8080/"
        },
        "id": "cUsjokobwn64",
        "outputId": "012dad64-156b-4e14-e366-59682a1673a3"
      },
      "source": [
        "for x in range(5):\r\n",
        "  print(\"환영합니다.\")"
      ],
      "execution_count": 1,
      "outputs": [
        {
          "output_type": "stream",
          "text": [
            "환영합니다.\n",
            "환영합니다.\n",
            "환영합니다.\n",
            "환영합니다.\n",
            "환영합니다.\n"
          ],
          "name": "stdout"
        }
      ]
    },
    {
      "cell_type": "code",
      "metadata": {
        "colab": {
          "base_uri": "https://localhost:8080/"
        },
        "id": "yms1bnw7w-L-",
        "outputId": "1ea0f406-c0d3-4ff1-cdd8-16e300fa5bbf"
      },
      "source": [
        "for name in [\"철수\",\"영희\",\"길동\",\"유신\"]:\r\n",
        "  print(\"안녕! \"+name)"
      ],
      "execution_count": 2,
      "outputs": [
        {
          "output_type": "stream",
          "text": [
            "안녕! 철수\n",
            "안녕! 영희\n",
            "안녕! 길동\n",
            "안녕! 유신\n"
          ],
          "name": "stdout"
        }
      ]
    },
    {
      "cell_type": "code",
      "metadata": {
        "colab": {
          "base_uri": "https://localhost:8080/"
        },
        "id": "Kcm3KPw0xs1F",
        "outputId": "e6282484-4019-41f1-ff55-3be88d7059b9"
      },
      "source": [
        "for x in [0, 1, 2, 3, 4, 5, 6, 7, 8, 9]:\r\n",
        "  print(x, end=\" \")"
      ],
      "execution_count": 3,
      "outputs": [
        {
          "output_type": "stream",
          "text": [
            "0 1 2 3 4 5 6 7 8 9 "
          ],
          "name": "stdout"
        }
      ]
    },
    {
      "cell_type": "code",
      "metadata": {
        "colab": {
          "base_uri": "https://localhost:8080/"
        },
        "id": "bg0IkGmSx2ne",
        "outputId": "6840461c-df3b-42d6-ae99-06bdd4aa38fa"
      },
      "source": [
        "sum = 0\r\n",
        "for x in range(10):\r\n",
        "  sum = sum + x\r\n",
        "print(sum)"
      ],
      "execution_count": 4,
      "outputs": [
        {
          "output_type": "stream",
          "text": [
            "45\n"
          ],
          "name": "stdout"
        }
      ]
    },
    {
      "cell_type": "code",
      "metadata": {
        "id": "FPb7z_MyyYOM"
      },
      "source": [
        ""
      ],
      "execution_count": null,
      "outputs": []
    }
  ]
}