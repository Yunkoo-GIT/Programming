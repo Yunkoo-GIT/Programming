{
  "nbformat": 4,
  "nbformat_minor": 0,
  "metadata": {
    "colab": {
      "name": "20210311.ipynb",
      "provenance": [],
      "authorship_tag": "ABX9TyMxfg7F+NbD5AFQV+KrMXQJ",
      "include_colab_link": true
    },
    "kernelspec": {
      "name": "python3",
      "display_name": "Python 3"
    }
  },
  "cells": [
    {
      "cell_type": "markdown",
      "metadata": {
        "id": "view-in-github",
        "colab_type": "text"
      },
      "source": [
        "<a href=\"https://colab.research.google.com/github/Yunkoo-GIT/Programming/blob/main/20210311.ipynb\" target=\"_parent\"><img src=\"https://colab.research.google.com/assets/colab-badge.svg\" alt=\"Open In Colab\"/></a>"
      ]
    },
    {
      "cell_type": "code",
      "metadata": {
        "colab": {
          "base_uri": "https://localhost:8080/"
        },
        "id": "cUsjokobwn64",
        "outputId": "012dad64-156b-4e14-e366-59682a1673a3"
      },
      "source": [
        "for x in range(5):\r\n",
        "  print(\"환영합니다.\")"
      ],
      "execution_count": 1,
      "outputs": [
        {
          "output_type": "stream",
          "text": [
            "환영합니다.\n",
            "환영합니다.\n",
            "환영합니다.\n",
            "환영합니다.\n",
            "환영합니다.\n"
          ],
          "name": "stdout"
        }
      ]
    },
    {
      "cell_type": "code",
      "metadata": {
        "colab": {
          "base_uri": "https://localhost:8080/"
        },
        "id": "yms1bnw7w-L-",
        "outputId": "1ea0f406-c0d3-4ff1-cdd8-16e300fa5bbf"
      },
      "source": [
        "for name in [\"철수\",\"영희\",\"길동\",\"유신\"]:\r\n",
        "  print(\"안녕! \"+name)"
      ],
      "execution_count": 2,
      "outputs": [
        {
          "output_type": "stream",
          "text": [
            "안녕! 철수\n",
            "안녕! 영희\n",
            "안녕! 길동\n",
            "안녕! 유신\n"
          ],
          "name": "stdout"
        }
      ]
    },
    {
      "cell_type": "code",
      "metadata": {
        "colab": {
          "base_uri": "https://localhost:8080/"
        },
        "id": "Kcm3KPw0xs1F",
        "outputId": "e6282484-4019-41f1-ff55-3be88d7059b9"
      },
      "source": [
        "for x in [0, 1, 2, 3, 4, 5, 6, 7, 8, 9]:\r\n",
        "  print(x, end=\" \")"
      ],
      "execution_count": 3,
      "outputs": [
        {
          "output_type": "stream",
          "text": [
            "0 1 2 3 4 5 6 7 8 9 "
          ],
          "name": "stdout"
        }
      ]
    },
    {
      "cell_type": "code",
      "metadata": {
        "colab": {
          "base_uri": "https://localhost:8080/"
        },
        "id": "bg0IkGmSx2ne",
        "outputId": "84c3102b-5095-4cc7-88ad-4065a062bdf2"
      },
      "source": [
        "sum = 0\r\n",
        "for x in range(2, 10, 2):\r\n",
        "  print(x, end=\" \")\r\n",
        "  sum = sum + x\r\n",
        "  print(sum)\r\n",
        "print(sum)"
      ],
      "execution_count": 9,
      "outputs": [
        {
          "output_type": "stream",
          "text": [
            "2 2\n",
            "4 6\n",
            "6 12\n",
            "8 20\n",
            "20\n"
          ],
          "name": "stdout"
        }
      ]
    },
    {
      "cell_type": "code",
      "metadata": {
        "colab": {
          "base_uri": "https://localhost:8080/"
        },
        "id": "FPb7z_MyyYOM",
        "outputId": "399f734b-6435-4bd7-d259-d2ca788ccf31"
      },
      "source": [
        "sum = 0\r\n",
        "\r\n",
        "limit = int(input(\"어디까지 계산할까요 : \"))\r\n",
        "for i in range(1, limit+1):\r\n",
        "  sum += i  # sum = sum + i\r\n",
        "\r\n",
        "print(\"1부터 \", limit, \"까지의 정수의 합 = \", sum)"
      ],
      "execution_count": 15,
      "outputs": [
        {
          "output_type": "stream",
          "text": [
            "어디까지 계산할까요 : 12\n",
            "1부터  12 까지의 정수의 합 =  78\n"
          ],
          "name": "stdout"
        }
      ]
    },
    {
      "cell_type": "code",
      "metadata": {
        "colab": {
          "base_uri": "https://localhost:8080/"
        },
        "id": "2pGiCLwB0Pa2",
        "outputId": "65dd47f2-db90-4cae-a52a-e0c09e0b7d4d"
      },
      "source": [
        "i = 0\r\n",
        "while i < 5 :\r\n",
        "  print(\"환영합니다.\")\r\n",
        "  i += 1\r\n",
        "print(\"반복이 종료되었습니다.\")"
      ],
      "execution_count": 22,
      "outputs": [
        {
          "output_type": "stream",
          "text": [
            "환영합니다.\n",
            "환영합니다.\n",
            "환영합니다.\n",
            "환영합니다.\n",
            "환영합니다.\n",
            "반복이 종료되었습니다.\n"
          ],
          "name": "stdout"
        }
      ]
    },
    {
      "cell_type": "code",
      "metadata": {
        "colab": {
          "base_uri": "https://localhost:8080/"
        },
        "id": "i1dvgmWa2tYk",
        "outputId": "d83b1962-d18c-4113-b3f9-e3490b08ab90"
      },
      "source": [
        "i = 0\r\n",
        "while i < 10 :\r\n",
        "  print(i, end=\" \")\r\n",
        "  i += 1\r\n",
        "print(\"\\n종료:\", i)"
      ],
      "execution_count": 24,
      "outputs": [
        {
          "output_type": "stream",
          "text": [
            "0 1 2 3 4 5 6 7 8 9 \n",
            "종료: 10\n"
          ],
          "name": "stdout"
        }
      ]
    },
    {
      "cell_type": "code",
      "metadata": {
        "colab": {
          "base_uri": "https://localhost:8080/"
        },
        "id": "O1Xd6UUL4AtK",
        "outputId": "c1c3e50b-63ec-4471-94a3-87a63b62ce4c"
      },
      "source": [
        "i = 1\r\n",
        "sum = 0\r\n",
        "\r\n",
        "while i<= 10 :\r\n",
        "  sum += i\r\n",
        "  i += 1\r\n",
        "print(\"합계=\", sum)"
      ],
      "execution_count": 25,
      "outputs": [
        {
          "output_type": "stream",
          "text": [
            "합계= 55\n"
          ],
          "name": "stdout"
        }
      ]
    }
  ]
}