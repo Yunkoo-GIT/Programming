{
  "nbformat": 4,
  "nbformat_minor": 0,
  "metadata": {
    "colab": {
      "name": "20210311.ipynb",
      "provenance": [],
      "authorship_tag": "ABX9TyMcMMgsDwpFgC0fdGLx2wU1",
      "include_colab_link": true
    },
    "kernelspec": {
      "name": "python3",
      "display_name": "Python 3"
    }
  },
  "cells": [
    {
      "cell_type": "markdown",
      "metadata": {
        "id": "view-in-github",
        "colab_type": "text"
      },
      "source": [
        "<a href=\"https://colab.research.google.com/github/Yunkoo-GIT/Programming/blob/main/20210311.ipynb\" target=\"_parent\"><img src=\"https://colab.research.google.com/assets/colab-badge.svg\" alt=\"Open In Colab\"/></a>"
      ]
    },
    {
      "cell_type": "code",
      "metadata": {
        "colab": {
          "base_uri": "https://localhost:8080/"
        },
        "id": "cUsjokobwn64",
        "outputId": "012dad64-156b-4e14-e366-59682a1673a3"
      },
      "source": [
        "for x in range(5):\r\n",
        "  print(\"환영합니다.\")"
      ],
      "execution_count": 1,
      "outputs": [
        {
          "output_type": "stream",
          "text": [
            "환영합니다.\n",
            "환영합니다.\n",
            "환영합니다.\n",
            "환영합니다.\n",
            "환영합니다.\n"
          ],
          "name": "stdout"
        }
      ]
    },
    {
      "cell_type": "code",
      "metadata": {
        "colab": {
          "base_uri": "https://localhost:8080/"
        },
        "id": "yms1bnw7w-L-",
        "outputId": "1ea0f406-c0d3-4ff1-cdd8-16e300fa5bbf"
      },
      "source": [
        "for name in [\"철수\",\"영희\",\"길동\",\"유신\"]:\r\n",
        "  print(\"안녕! \"+name)"
      ],
      "execution_count": 2,
      "outputs": [
        {
          "output_type": "stream",
          "text": [
            "안녕! 철수\n",
            "안녕! 영희\n",
            "안녕! 길동\n",
            "안녕! 유신\n"
          ],
          "name": "stdout"
        }
      ]
    },
    {
      "cell_type": "code",
      "metadata": {
        "colab": {
          "base_uri": "https://localhost:8080/"
        },
        "id": "Kcm3KPw0xs1F",
        "outputId": "e6282484-4019-41f1-ff55-3be88d7059b9"
      },
      "source": [
        "for x in [0, 1, 2, 3, 4, 5, 6, 7, 8, 9]:\r\n",
        "  print(x, end=\" \")"
      ],
      "execution_count": 3,
      "outputs": [
        {
          "output_type": "stream",
          "text": [
            "0 1 2 3 4 5 6 7 8 9 "
          ],
          "name": "stdout"
        }
      ]
    },
    {
      "cell_type": "code",
      "metadata": {
        "colab": {
          "base_uri": "https://localhost:8080/"
        },
        "id": "bg0IkGmSx2ne",
        "outputId": "84c3102b-5095-4cc7-88ad-4065a062bdf2"
      },
      "source": [
        "sum = 0\r\n",
        "for x in range(2, 10, 2):\r\n",
        "  print(x, end=\" \")\r\n",
        "  sum = sum + x\r\n",
        "  print(sum)\r\n",
        "print(sum)"
      ],
      "execution_count": 9,
      "outputs": [
        {
          "output_type": "stream",
          "text": [
            "2 2\n",
            "4 6\n",
            "6 12\n",
            "8 20\n",
            "20\n"
          ],
          "name": "stdout"
        }
      ]
    },
    {
      "cell_type": "code",
      "metadata": {
        "colab": {
          "base_uri": "https://localhost:8080/"
        },
        "id": "FPb7z_MyyYOM",
        "outputId": "8a50e61e-488e-417f-8324-52401264abbb"
      },
      "source": [
        "sum = 0\r\n",
        "\r\n",
        "limit = int(input(\"어디까지 계산할까요 : \"))\r\n",
        "for i in range(1, limit+1):\r\n",
        "  sum += i\r\n",
        "\r\n",
        "print(\"1부터 \", limit, \"까지의 정수의 합 = \", sum)"
      ],
      "execution_count": 14,
      "outputs": [
        {
          "output_type": "stream",
          "text": [
            "어디까지 계산할까요 : 10\n",
            "1부터  10 까지의 정수의 합 =  55\n"
          ],
          "name": "stdout"
        }
      ]
    },
    {
      "cell_type": "code",
      "metadata": {
        "id": "2pGiCLwB0Pa2"
      },
      "source": [
        ""
      ],
      "execution_count": null,
      "outputs": []
    }
  ]
}