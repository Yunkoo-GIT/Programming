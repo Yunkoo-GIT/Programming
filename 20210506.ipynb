{
  "nbformat": 4,
  "nbformat_minor": 0,
  "metadata": {
    "colab": {
      "name": "20210506.ipynb",
      "provenance": [],
      "authorship_tag": "ABX9TyNL5YIiFCT06ltMrOt6xynC",
      "include_colab_link": true
    },
    "kernelspec": {
      "name": "python3",
      "display_name": "Python 3"
    },
    "language_info": {
      "name": "python"
    }
  },
  "cells": [
    {
      "cell_type": "markdown",
      "metadata": {
        "id": "view-in-github",
        "colab_type": "text"
      },
      "source": [
        "<a href=\"https://colab.research.google.com/github/Yunkoo-GIT/Programming/blob/main/20210506.ipynb\" target=\"_parent\"><img src=\"https://colab.research.google.com/assets/colab-badge.svg\" alt=\"Open In Colab\"/></a>"
      ]
    },
    {
      "cell_type": "code",
      "metadata": {
        "colab": {
          "base_uri": "https://localhost:8080/"
        },
        "id": "vqAU3vCUM4UM",
        "outputId": "39924d6c-e1ad-4363-e079-086b0c280b99"
      },
      "source": [
        "class Vehicle:\n",
        "  def __init__(self, make, model, color, price):\n",
        "    self.make = make\n",
        "    self.model = model\n",
        "    self.color = color\n",
        "    self.price = price\n",
        "\n",
        "  def setMake(self, make):\n",
        "    self.make = make\n",
        "\n",
        "  def getMake(self):\n",
        "    return self.make\n",
        "\n",
        "  def getDesc(self):\n",
        "    return \"차량 = (\"+str(self.make)+\",\"+\\\n",
        "                   str(self.model)+\",\"+\\\n",
        "                   str(self.color)+\",\"+\\\n",
        "                   str(self.price)+\")\"\n",
        "\n",
        "class Truck(Vehicle):\n",
        "  def __init__(self, make, model, color, price, payload):\n",
        "    super().__init__(make, model, color, price)\n",
        "    self.payload = payload\n",
        "\n",
        "  def setPayload(self, payload):\n",
        "    self.payload = payload\n",
        "\n",
        "  def getPayload(self):\n",
        "    return self.payload\n",
        "\n",
        "def main():\n",
        "  myTruck = Truck(\"Tisla\", \"Model S\", \"white\", 10000, 2000)\n",
        "  myTruck.setMake(\"Tesla\")\n",
        "  myTruck.setPayload(2000)\n",
        "  print(myTruck.getDesc())\n",
        "\n",
        "main()"
      ],
      "execution_count": 2,
      "outputs": [
        {
          "output_type": "stream",
          "text": [
            "차량 = (Tesla,Model S,white,10000)\n"
          ],
          "name": "stdout"
        }
      ]
    },
    {
      "cell_type": "code",
      "metadata": {
        "id": "fuyWD3z6SfHM"
      },
      "source": [
        ""
      ],
      "execution_count": null,
      "outputs": []
    }
  ]
}