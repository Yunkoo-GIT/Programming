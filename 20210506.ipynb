{
  "nbformat": 4,
  "nbformat_minor": 0,
  "metadata": {
    "colab": {
      "name": "20210506.ipynb",
      "provenance": [],
      "authorship_tag": "ABX9TyOfbQmwO38PPUyyxbuAXsUX",
      "include_colab_link": true
    },
    "kernelspec": {
      "name": "python3",
      "display_name": "Python 3"
    },
    "language_info": {
      "name": "python"
    }
  },
  "cells": [
    {
      "cell_type": "markdown",
      "metadata": {
        "id": "view-in-github",
        "colab_type": "text"
      },
      "source": [
        "<a href=\"https://colab.research.google.com/github/Yunkoo-GIT/Programming/blob/main/20210506.ipynb\" target=\"_parent\"><img src=\"https://colab.research.google.com/assets/colab-badge.svg\" alt=\"Open In Colab\"/></a>"
      ]
    },
    {
      "cell_type": "code",
      "metadata": {
        "colab": {
          "base_uri": "https://localhost:8080/"
        },
        "id": "vqAU3vCUM4UM",
        "outputId": "39924d6c-e1ad-4363-e079-086b0c280b99"
      },
      "source": [
        "class Vehicle:\n",
        "  def __init__(self, make, model, color, price):\n",
        "    self.make = make\n",
        "    self.model = model\n",
        "    self.color = color\n",
        "    self.price = price\n",
        "\n",
        "  def setMake(self, make):\n",
        "    self.make = make\n",
        "\n",
        "  def getMake(self):\n",
        "    return self.make\n",
        "\n",
        "  def getDesc(self):\n",
        "    return \"차량 = (\"+str(self.make)+\",\"+\\\n",
        "                   str(self.model)+\",\"+\\\n",
        "                   str(self.color)+\",\"+\\\n",
        "                   str(self.price)+\")\"\n",
        "\n",
        "class Truck(Vehicle):\n",
        "  def __init__(self, make, model, color, price, payload):\n",
        "    super().__init__(make, model, color, price)\n",
        "    self.payload = payload\n",
        "\n",
        "  def setPayload(self, payload):\n",
        "    self.payload = payload\n",
        "\n",
        "  def getPayload(self):\n",
        "    return self.payload\n",
        "\n",
        "def main():\n",
        "  myTruck = Truck(\"Tisla\", \"Model S\", \"white\", 10000, 2000)\n",
        "  myTruck.setMake(\"Tesla\")\n",
        "  myTruck.setPayload(2000)\n",
        "  print(myTruck.getDesc())\n",
        "\n",
        "main()"
      ],
      "execution_count": 2,
      "outputs": [
        {
          "output_type": "stream",
          "text": [
            "차량 = (Tesla,Model S,white,10000)\n"
          ],
          "name": "stdout"
        }
      ]
    },
    {
      "cell_type": "code",
      "metadata": {
        "id": "e2CwOsJ6TAJS"
      },
      "source": [
        "class Animal(object):\n",
        "  pass\n",
        "\n",
        "class Dog(Animal):\n",
        "  def __init__(self, name):\n",
        "    self.name = name\n",
        "\n",
        "class Person(object):\n",
        "  def __init__(self, name):\n",
        "    self.name = name\n",
        "    self.pet = None\n",
        "\n",
        "dog1 = Dog(\"dog1\")\n",
        "person1 = Person(\"홍길동\")\n",
        "person1.pet = dog1"
      ],
      "execution_count": 8,
      "outputs": []
    },
    {
      "cell_type": "code",
      "metadata": {
        "colab": {
          "base_uri": "https://localhost:8080/"
        },
        "id": "iWKVzQfYXobr",
        "outputId": "a0aedb91-2985-4b85-915f-f96454723f2c"
      },
      "source": [
        "import pandas as pd\n",
        "from sklearn.datasets import load_wine\n",
        "from sklearn.model_selection import train_test_split\n",
        "from sklearn.preprocessing import StandardScaler\n",
        "from sklearn.neural_network import MLPClassifier\n",
        "from sklearn.metrics import classification_report,confusion_matrix\n",
        "\n",
        "wine = load_wine()\n",
        "data = pd.DataFrame(data=wine['data'], columns=wine['feature_names'])\n",
        "print(data.head())\n",
        "\n",
        "X = wine.data\n",
        "y = wine.target\n",
        "X_train, X_test, y_train, y_test = train_test_split(X, y)\n",
        "\n",
        "scaler = StandardScaler()\n",
        "scaler.fit(X_train)\n",
        "StandardScaler(copy=True, with_mean=True, with_std=True)\n",
        "\n",
        "X_train = scaler.transform(X_train)\n",
        "X_test = scaler.transform(X_test)\n",
        "\n",
        "mlp = MLPClassifier(hidden_layer_sizes=(13,13,13), max_iter=500)\n",
        "mlp.fit(X_train, y_train)\n",
        "predictions = mlp.predict(X_test)\n",
        "print(confusion_matrix(y_test, predictions))\n",
        "print(classification_report(y_test, predictions))"
      ],
      "execution_count": 9,
      "outputs": [
        {
          "output_type": "stream",
          "text": [
            "   alcohol  malic_acid   ash  ...   hue  od280/od315_of_diluted_wines  proline\n",
            "0    14.23        1.71  2.43  ...  1.04                          3.92   1065.0\n",
            "1    13.20        1.78  2.14  ...  1.05                          3.40   1050.0\n",
            "2    13.16        2.36  2.67  ...  1.03                          3.17   1185.0\n",
            "3    14.37        1.95  2.50  ...  0.86                          3.45   1480.0\n",
            "4    13.24        2.59  2.87  ...  1.04                          2.93    735.0\n",
            "\n",
            "[5 rows x 13 columns]\n",
            "[[17  0  0]\n",
            " [ 0 16  0]\n",
            " [ 0  1 11]]\n",
            "              precision    recall  f1-score   support\n",
            "\n",
            "           0       1.00      1.00      1.00        17\n",
            "           1       0.94      1.00      0.97        16\n",
            "           2       1.00      0.92      0.96        12\n",
            "\n",
            "    accuracy                           0.98        45\n",
            "   macro avg       0.98      0.97      0.98        45\n",
            "weighted avg       0.98      0.98      0.98        45\n",
            "\n"
          ],
          "name": "stdout"
        }
      ]
    }
  ]
}