{
  "nbformat": 4,
  "nbformat_minor": 0,
  "metadata": {
    "colab": {
      "name": "20210304.ipynb",
      "provenance": [],
      "authorship_tag": "ABX9TyOCVYw9mxW7eFgygD7GWwuJ",
      "include_colab_link": true
    },
    "kernelspec": {
      "name": "python3",
      "display_name": "Python 3"
    }
  },
  "cells": [
    {
      "cell_type": "markdown",
      "metadata": {
        "id": "view-in-github",
        "colab_type": "text"
      },
      "source": [
        "<a href=\"https://colab.research.google.com/github/Yunkoo-GIT/Programming/blob/main/20210304.ipynb\" target=\"_parent\"><img src=\"https://colab.research.google.com/assets/colab-badge.svg\" alt=\"Open In Colab\"/></a>"
      ]
    },
    {
      "cell_type": "code",
      "metadata": {
        "colab": {
          "base_uri": "https://localhost:8080/"
        },
        "id": "EtJ6lBPbDXxB",
        "outputId": "68afb02a-6608-4d74-9a19-3a9e52ef9354"
      },
      "source": [
        "number = int(input(\"참석자의 수를 입력하시오 : \"))\n",
        "chickens = number\n",
        "beers = number * 2\n",
        "cakes = number * 4\n",
        "print(\"치킨의 수 : \", chickens)\n",
        "print(\"맥주의 수 : \", beers)\n",
        "print(\"케익의 수 : \", cakes)"
      ],
      "execution_count": 1,
      "outputs": [
        {
          "output_type": "stream",
          "text": [
            "참석자의 수를 입력하시오 : 5\n",
            "치킨의 수 :  5\n",
            "맥주의 수 :  10\n",
            "케익의 수 :  20\n"
          ],
          "name": "stdout"
        }
      ]
    },
    {
      "cell_type": "code",
      "metadata": {
        "colab": {
          "base_uri": "https://localhost:8080/"
        },
        "id": "fVlLEg-5F9a8",
        "outputId": "9af88906-a73a-49ce-93f2-1b493d6ec47d"
      },
      "source": [
        "from math import *\r\n",
        "\r\n",
        "time1 = 10/20\r\n",
        "hill = sqrt(3**2+4**2)\r\n",
        "time2 = hill/10\r\n",
        "time3 = hill/30\r\n",
        "time4 = 8/20\r\n",
        "total = time1+time2+time3+time4\r\n",
        "print(total)"
      ],
      "execution_count": 2,
      "outputs": [
        {
          "output_type": "stream",
          "text": [
            "1.5666666666666669\n"
          ],
          "name": "stdout"
        }
      ]
    },
    {
      "cell_type": "code",
      "metadata": {
        "colab": {
          "base_uri": "https://localhost:8080/"
        },
        "id": "cySLsUSYHGnB",
        "outputId": "fe88ec35-5d34-4c4d-a738-79391b069844"
      },
      "source": [
        "shopping_list = ['milk', 'eggs', 'cheese', 'butter', 'cream']\r\n",
        "print(shopping_list)\r\n",
        "print(shopping_list[2])\r\n",
        "shopping_list[2]='apple'\r\n",
        "print(shopping_list)"
      ],
      "execution_count": 3,
      "outputs": [
        {
          "output_type": "stream",
          "text": [
            "['milk', 'eggs', 'cheese', 'butter', 'cream']\n",
            "cheese\n",
            "['milk', 'eggs', 'apple', 'butter', 'cream']\n"
          ],
          "name": "stdout"
        }
      ]
    },
    {
      "cell_type": "code",
      "metadata": {
        "colab": {
          "base_uri": "https://localhost:8080/"
        },
        "id": "m2rhi2DwI7Ej",
        "outputId": "d66ec6dc-d505-4608-84a5-4e6ffd6c89bf"
      },
      "source": [
        "score = int(input('점수 = '))\r\n",
        "if (score >= 60) :\r\n",
        "  print('합격')\r\n",
        "else:\r\n",
        "  print('불합격')"
      ],
      "execution_count": 7,
      "outputs": [
        {
          "output_type": "stream",
          "text": [
            "점수 = 65\n",
            "합격\n"
          ],
          "name": "stdout"
        }
      ]
    },
    {
      "cell_type": "code",
      "metadata": {
        "colab": {
          "base_uri": "https://localhost:8080/"
        },
        "id": "ILBrIGp3KHg_",
        "outputId": "308a351c-25ae-4279-946b-12c81c7f19ec"
      },
      "source": [
        "weight = float(input(\"짐의 무게는 얼마입니까? \"))\r\n",
        "\r\n",
        "if weight > 20:\r\n",
        "  print(\"무거운 짐은 20,000원을 내셔야 합니다.\")\r\n",
        "else:\r\n",
        "  print(\"짐에 대한 수수료는 없습니다.\")\r\n",
        "print(\"감사합니다.\")"
      ],
      "execution_count": 9,
      "outputs": [
        {
          "output_type": "stream",
          "text": [
            "짐의 무게는 얼마입니까? 13.4\n",
            "짐에 대한 수수료는 없습니다.\n",
            "감사합니다.\n"
          ],
          "name": "stdout"
        }
      ]
    }
  ]
}