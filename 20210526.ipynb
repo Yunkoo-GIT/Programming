{
  "nbformat": 4,
  "nbformat_minor": 0,
  "metadata": {
    "colab": {
      "name": "20210526.ipynb",
      "provenance": [],
      "authorship_tag": "ABX9TyMpWJ/4GBAcZqkbUoKc/ww0",
      "include_colab_link": true
    },
    "kernelspec": {
      "name": "python3",
      "display_name": "Python 3"
    },
    "language_info": {
      "name": "python"
    },
    "accelerator": "GPU",
    "widgets": {
      "application/vnd.jupyter.widget-state+json": {
        "6471ef743908486fa0fb4217780e3d26": {
          "model_module": "@jupyter-widgets/controls",
          "model_name": "HBoxModel",
          "state": {
            "_view_name": "HBoxView",
            "_dom_classes": [],
            "_model_name": "HBoxModel",
            "_view_module": "@jupyter-widgets/controls",
            "_model_module_version": "1.5.0",
            "_view_count": null,
            "_view_module_version": "1.5.0",
            "box_style": "",
            "layout": "IPY_MODEL_716443e92e7d4107812c16ee654c8659",
            "_model_module": "@jupyter-widgets/controls",
            "children": [
              "IPY_MODEL_50e5f03a2dd34685a8208d9151e92de6",
              "IPY_MODEL_637188ed43e44b989f4bc7bff8551091"
            ]
          }
        },
        "716443e92e7d4107812c16ee654c8659": {
          "model_module": "@jupyter-widgets/base",
          "model_name": "LayoutModel",
          "state": {
            "_view_name": "LayoutView",
            "grid_template_rows": null,
            "right": null,
            "justify_content": null,
            "_view_module": "@jupyter-widgets/base",
            "overflow": null,
            "_model_module_version": "1.2.0",
            "_view_count": null,
            "flex_flow": null,
            "width": null,
            "min_width": null,
            "border": null,
            "align_items": null,
            "bottom": null,
            "_model_module": "@jupyter-widgets/base",
            "top": null,
            "grid_column": null,
            "overflow_y": null,
            "overflow_x": null,
            "grid_auto_flow": null,
            "grid_area": null,
            "grid_template_columns": null,
            "flex": null,
            "_model_name": "LayoutModel",
            "justify_items": null,
            "grid_row": null,
            "max_height": null,
            "align_content": null,
            "visibility": null,
            "align_self": null,
            "height": null,
            "min_height": null,
            "padding": null,
            "grid_auto_rows": null,
            "grid_gap": null,
            "max_width": null,
            "order": null,
            "_view_module_version": "1.2.0",
            "grid_template_areas": null,
            "object_position": null,
            "object_fit": null,
            "grid_auto_columns": null,
            "margin": null,
            "display": null,
            "left": null
          }
        },
        "50e5f03a2dd34685a8208d9151e92de6": {
          "model_module": "@jupyter-widgets/controls",
          "model_name": "FloatProgressModel",
          "state": {
            "_view_name": "ProgressView",
            "style": "IPY_MODEL_f07e6ad0d8e54b81b90f30d85294f8c1",
            "_dom_classes": [],
            "description": "100%",
            "_model_name": "FloatProgressModel",
            "bar_style": "success",
            "max": 46827520,
            "_view_module": "@jupyter-widgets/controls",
            "_model_module_version": "1.5.0",
            "value": 46827520,
            "_view_count": null,
            "_view_module_version": "1.5.0",
            "orientation": "horizontal",
            "min": 0,
            "description_tooltip": null,
            "_model_module": "@jupyter-widgets/controls",
            "layout": "IPY_MODEL_2bcc443101774311aef89de0814297b0"
          }
        },
        "637188ed43e44b989f4bc7bff8551091": {
          "model_module": "@jupyter-widgets/controls",
          "model_name": "HTMLModel",
          "state": {
            "_view_name": "HTMLView",
            "style": "IPY_MODEL_3b8b6c73d27748468bd81aaf17c7d07a",
            "_dom_classes": [],
            "description": "",
            "_model_name": "HTMLModel",
            "placeholder": "​",
            "_view_module": "@jupyter-widgets/controls",
            "_model_module_version": "1.5.0",
            "value": " 44.7M/44.7M [01:16&lt;00:00, 610kB/s]",
            "_view_count": null,
            "_view_module_version": "1.5.0",
            "description_tooltip": null,
            "_model_module": "@jupyter-widgets/controls",
            "layout": "IPY_MODEL_89e30d0d47b64b54abbfb6c9cc081db1"
          }
        },
        "f07e6ad0d8e54b81b90f30d85294f8c1": {
          "model_module": "@jupyter-widgets/controls",
          "model_name": "ProgressStyleModel",
          "state": {
            "_view_name": "StyleView",
            "_model_name": "ProgressStyleModel",
            "description_width": "initial",
            "_view_module": "@jupyter-widgets/base",
            "_model_module_version": "1.5.0",
            "_view_count": null,
            "_view_module_version": "1.2.0",
            "bar_color": null,
            "_model_module": "@jupyter-widgets/controls"
          }
        },
        "2bcc443101774311aef89de0814297b0": {
          "model_module": "@jupyter-widgets/base",
          "model_name": "LayoutModel",
          "state": {
            "_view_name": "LayoutView",
            "grid_template_rows": null,
            "right": null,
            "justify_content": null,
            "_view_module": "@jupyter-widgets/base",
            "overflow": null,
            "_model_module_version": "1.2.0",
            "_view_count": null,
            "flex_flow": null,
            "width": null,
            "min_width": null,
            "border": null,
            "align_items": null,
            "bottom": null,
            "_model_module": "@jupyter-widgets/base",
            "top": null,
            "grid_column": null,
            "overflow_y": null,
            "overflow_x": null,
            "grid_auto_flow": null,
            "grid_area": null,
            "grid_template_columns": null,
            "flex": null,
            "_model_name": "LayoutModel",
            "justify_items": null,
            "grid_row": null,
            "max_height": null,
            "align_content": null,
            "visibility": null,
            "align_self": null,
            "height": null,
            "min_height": null,
            "padding": null,
            "grid_auto_rows": null,
            "grid_gap": null,
            "max_width": null,
            "order": null,
            "_view_module_version": "1.2.0",
            "grid_template_areas": null,
            "object_position": null,
            "object_fit": null,
            "grid_auto_columns": null,
            "margin": null,
            "display": null,
            "left": null
          }
        },
        "3b8b6c73d27748468bd81aaf17c7d07a": {
          "model_module": "@jupyter-widgets/controls",
          "model_name": "DescriptionStyleModel",
          "state": {
            "_view_name": "StyleView",
            "_model_name": "DescriptionStyleModel",
            "description_width": "",
            "_view_module": "@jupyter-widgets/base",
            "_model_module_version": "1.5.0",
            "_view_count": null,
            "_view_module_version": "1.2.0",
            "_model_module": "@jupyter-widgets/controls"
          }
        },
        "89e30d0d47b64b54abbfb6c9cc081db1": {
          "model_module": "@jupyter-widgets/base",
          "model_name": "LayoutModel",
          "state": {
            "_view_name": "LayoutView",
            "grid_template_rows": null,
            "right": null,
            "justify_content": null,
            "_view_module": "@jupyter-widgets/base",
            "overflow": null,
            "_model_module_version": "1.2.0",
            "_view_count": null,
            "flex_flow": null,
            "width": null,
            "min_width": null,
            "border": null,
            "align_items": null,
            "bottom": null,
            "_model_module": "@jupyter-widgets/base",
            "top": null,
            "grid_column": null,
            "overflow_y": null,
            "overflow_x": null,
            "grid_auto_flow": null,
            "grid_area": null,
            "grid_template_columns": null,
            "flex": null,
            "_model_name": "LayoutModel",
            "justify_items": null,
            "grid_row": null,
            "max_height": null,
            "align_content": null,
            "visibility": null,
            "align_self": null,
            "height": null,
            "min_height": null,
            "padding": null,
            "grid_auto_rows": null,
            "grid_gap": null,
            "max_width": null,
            "order": null,
            "_view_module_version": "1.2.0",
            "grid_template_areas": null,
            "object_position": null,
            "object_fit": null,
            "grid_auto_columns": null,
            "margin": null,
            "display": null,
            "left": null
          }
        }
      }
    }
  },
  "cells": [
    {
      "cell_type": "markdown",
      "metadata": {
        "id": "view-in-github",
        "colab_type": "text"
      },
      "source": [
        "<a href=\"https://colab.research.google.com/github/Yunkoo-GIT/Programming/blob/main/20210526.ipynb\" target=\"_parent\"><img src=\"https://colab.research.google.com/assets/colab-badge.svg\" alt=\"Open In Colab\"/></a>"
      ]
    },
    {
      "cell_type": "code",
      "metadata": {
        "colab": {
          "base_uri": "https://localhost:8080/",
          "height": 1000,
          "referenced_widgets": [
            "6471ef743908486fa0fb4217780e3d26",
            "716443e92e7d4107812c16ee654c8659",
            "50e5f03a2dd34685a8208d9151e92de6",
            "637188ed43e44b989f4bc7bff8551091",
            "f07e6ad0d8e54b81b90f30d85294f8c1",
            "2bcc443101774311aef89de0814297b0",
            "3b8b6c73d27748468bd81aaf17c7d07a",
            "89e30d0d47b64b54abbfb6c9cc081db1"
          ]
        },
        "id": "CuU9UIQlxb6G",
        "outputId": "fc63ff28-7891-4b45-fbdd-ff40d3f3e6ed"
      },
      "source": [
        "%matplotlib inline\n",
        "from __future__ import print_function, division\n",
        "\n",
        "import torch\n",
        "import torch.nn as nn\n",
        "import torch.optim as optim\n",
        "from torch.optim import lr_scheduler\n",
        "import numpy as np\n",
        "import torchvision\n",
        "from  torchvision import datasets, models, transforms\n",
        "import matplotlib.pyplot as plt\n",
        "import time\n",
        "import os\n",
        "import copy\n",
        "plt.ion()  #interactive mode\n",
        "\n",
        "from google.colab import drive\n",
        "drive.mount('/content/gdrive')\n",
        "\n",
        "data_transforms = {\n",
        "    'train':transforms.Compose([\n",
        "                                transforms.RandomResizedCrop(224),\n",
        "                                transforms.RandomHorizontalFlip(),\n",
        "                                transforms.ToTensor(),\n",
        "                                transforms.Normalize([0.485, 0.456, 0.406], [0.229, 0.224, 0.225])\n",
        "    ]),\n",
        "    'val': transforms.Compose([\n",
        "                               transforms.Resize(256),\n",
        "                               transforms.CenterCrop(224),\n",
        "                               transforms.ToTensor(),\n",
        "                               transforms.Normalize([0.485, 0.456, 0.406], [0.229, 0.224, 0.225])\n",
        "    ]),\n",
        "}\n",
        "\n",
        "data_dir = '/content/gdrive/MyDrive/Hardware_data'\n",
        "image_datasets = {x: datasets.ImageFolder(os.path.join(data_dir, x), data_transforms[x]) for x in ['train', 'val']}\n",
        "dataloaders = {x: torch.utils.data.DataLoader(image_datasets[x], batch_size=4, shuffle=True,\n",
        "                                              num_workers=4) for x in ['train', 'val']}\n",
        "dataset_sizes = {x: len(image_datasets[x]) for x in ['train', 'val']}\n",
        "class_names = image_datasets['train'].classes\n",
        "device = torch.device(\"cuda:0\" if torch.cuda.is_available() else \"cpu\")\n",
        "\n",
        "def imshow(inp, title=None):\n",
        "  inp = inp.numpy().transpose((1, 2, 0))\n",
        "  mean = np.array([0.485, 0.456, 0.406])\n",
        "  std = np.array([0.229, 0.224, 0.225])\n",
        "  inp = std * inp + mean\n",
        "  inp = np.clip(inp, 0, 1)\n",
        "  plt.imshow(inp)\n",
        "  if title is not None:\n",
        "    plt.title(title)\n",
        "  plt.pause(0.001)\n",
        "\n",
        "inputs, classes = next(iter(dataloaders['train']))\n",
        "out = torchvision.utils.make_grid(inputs)\n",
        "\n",
        "imshow(out, title=[class_names[x] for x in classes])\n",
        "\n",
        "def train_model(model, criterion, optimizer, scheduler, num_epochs = 25):\n",
        "  since = time.time()\n",
        "  best_model_wts = copy.deepcopy(model.state_dict())\n",
        "  best_acc=0.0\n",
        "\n",
        "  for epoch in range(num_epochs):\n",
        "    print('Epoch {}/{}'.format(epoch, num_epochs - 1))\n",
        "    print('-' * 10)\n",
        "    for phase in ['train', 'val']:\n",
        "      if phase == 'train':\n",
        "        scheduler.step()\n",
        "        model.train()\n",
        "      else:\n",
        "        model.eval()\n",
        "      running_loss = 0.0\n",
        "      running_corrects = 0\n",
        "      for inputs, labels in dataloaders[phase]:\n",
        "        inputs = inputs.to(device)\n",
        "        labels = labels.to(device)\n",
        "        optimizer.zero_grad()\n",
        "        with torch.set_grad_enabled(phase == 'train'):\n",
        "          outputs = model(inputs)\n",
        "          _, preds = torch.max(outputs, 1)\n",
        "          loss = criterion(outputs, labels)\n",
        "          if phase == 'train':\n",
        "            loss.backward()\n",
        "            optimizer.step()\n",
        "        running_loss += loss.item() * inputs.size(0)\n",
        "        running_corrects += torch.sum(preds == labels.data)\n",
        "      epoch_loss = running_loss / dataset_sizes[phase]\n",
        "      epoch_acc = running_corrects.double() / dataset_sizes[phase]\n",
        "      print('{} Loss: {:.4f} Acc: {:.4f}'.format(phase, epoch_loss, epoch_acc))\n",
        "      if phase == 'val' and epoch_acc > best_acc:\n",
        "        best_acc = epoch_acc\n",
        "        best_model_wts = copy.deepcopy(model.state_dict())\n",
        "    print()\n",
        "\n",
        "  time_elapsed = time.time() - since\n",
        "  print('Training complete in {:.0f}m {:.0f}s'.format(time_elapsed // 60, time_elapsed % 60))\n",
        "  print('Best val Acc: {:4f}'.format(best_acc))\n",
        "  model.load_state_dict(best_model_wts)\n",
        "  return model\n",
        "\n",
        "def visualize_model(model, num_images=6):\n",
        "  was_training = model.training\n",
        "  model.eval()\n",
        "  images_so_far = 0\n",
        "  fig = plt.figure()\n",
        "\n",
        "  with torch.no_grad():\n",
        "    for i, (inputs, labels) in enumerate(dataloaders['val']):\n",
        "      inputs = inputs.to(device)\n",
        "      labels = labels.to(device)\n",
        "\n",
        "      outputs = model(inputs)\n",
        "      _, preds = torch.max(outputs, 1)\n",
        "\n",
        "      for j in range(inputs.size()[0]):\n",
        "        images_so_far += 1\n",
        "        ax = plt.subplot(num_images//2, 2, images_so_far)\n",
        "        ax.axis('off')\n",
        "        ax.set_title('predicted: {}'.format(class_names[preds[j]]))\n",
        "        imshow(inputs.cpu().data[j])\n",
        "\n",
        "        if images_so_far == num_images:\n",
        "          model.train(mode=was_training)\n",
        "          return\n",
        "    model.train(mode=was_training)\n",
        "\n",
        "model_ft = models.resnet18(pretrained=True)  #사전 학습된 ResNet18 가져오기\n",
        "num_ftrs = model_ft.fc.in_features  #모델에서 feature extraction 후 FC 층에 입력되는 특징수\n",
        "model_ft.fc = nn.Linear(num_ftrs, 2)\n",
        "\n",
        "model_ft = model_ft.to(device)  # cpu나 GPU에 model_ft를 할당\n",
        "criterion = nn.CrossEntropyLoss()\n",
        "\n",
        "#모든 파라미터를 학습\n",
        "optimizer_ft = optim.SGD(model_ft.parameters(), lr=0.001, momentum=0.9)\n",
        "\n",
        "#매 7 에포크 마다 학습율 0.1배 감소\n",
        "exp_lr_scheduler = lr_scheduler.StepLR(optimizer_ft, step_size=7, gamma=0.1)\n",
        "model_ft = train_model(model_ft, criterion, optimizer_ft, exp_lr_scheduler, num_epochs=25)\n",
        "\n",
        "visualize_model(model_ft)"
      ],
      "execution_count": 1,
      "outputs": [
        {
          "output_type": "stream",
          "text": [
            "Mounted at /content/gdrive\n"
          ],
          "name": "stdout"
        },
        {
          "output_type": "stream",
          "text": [
            "/usr/local/lib/python3.7/dist-packages/torch/utils/data/dataloader.py:477: UserWarning: This DataLoader will create 4 worker processes in total. Our suggested max number of worker in current system is 2, which is smaller than what this DataLoader is going to create. Please be aware that excessive worker creation might get DataLoader running slow or even freeze, lower the worker number to avoid potential slowness/freeze if necessary.\n",
            "  cpuset_checked))\n"
          ],
          "name": "stderr"
        },
        {
          "output_type": "display_data",
          "data": {
            "image/png": "[encoded data removed]",
            "text/plain": [
              "<Figure size 432x288 with 1 Axes>"
            ]
          },
          "metadata": {
            "tags": [],
            "needs_background": "light"
          }
        },
        {
          "output_type": "stream",
          "text": [
            "Downloading: \"https://download.pytorch.org/models/resnet18-5c106cde.pth\" to /root/.cache/torch/hub/checkpoints/resnet18-5c106cde.pth\n"
          ],
          "name": "stderr"
        },
        {
          "output_type": "display_data",
          "data": {
            "application/vnd.jupyter.widget-view+json": {
              "model_id": "6471ef743908486fa0fb4217780e3d26",
              "version_minor": 0,
              "version_major": 2
            },
            "text/plain": [
              "HBox(children=(FloatProgress(value=0.0, max=46827520.0), HTML(value='')))"
            ]
          },
          "metadata": {
            "tags": []
          }
        },
        {
          "output_type": "stream",
          "text": [
            "\n",
            "Epoch 0/24\n",
            "----------\n"
          ],
          "name": "stdout"
        },
        {
          "output_type": "stream",
          "text": [
            "/usr/local/lib/python3.7/dist-packages/torch/optim/lr_scheduler.py:134: UserWarning: Detected call of `lr_scheduler.step()` before `optimizer.step()`. In PyTorch 1.1.0 and later, you should call them in the opposite order: `optimizer.step()` before `lr_scheduler.step()`.  Failure to do this will result in PyTorch skipping the first value of the learning rate schedule. See more details at https://pytorch.org/docs/stable/optim.html#how-to-adjust-learning-rate\n",
            "  \"https://pytorch.org/docs/stable/optim.html#how-to-adjust-learning-rate\", UserWarning)\n"
          ],
          "name": "stderr"
        },
        {
          "output_type": "stream",
          "text": [
            "train Loss: 0.6700 Acc: 0.6667\n",
            "val Loss: 0.2687 Acc: 0.9000\n",
            "\n",
            "Epoch 1/24\n",
            "----------\n",
            "train Loss: 0.7136 Acc: 0.7595\n",
            "val Loss: 0.7407 Acc: 0.7167\n",
            "\n",
            "Epoch 2/24\n",
            "----------\n",
            "train Loss: 0.5706 Acc: 0.7975\n",
            "val Loss: 0.1723 Acc: 0.9167\n",
            "\n",
            "Epoch 3/24\n",
            "----------\n",
            "train Loss: 0.5403 Acc: 0.7890\n",
            "val Loss: 0.1193 Acc: 0.9500\n",
            "\n",
            "Epoch 4/24\n",
            "----------\n",
            "train Loss: 0.4598 Acc: 0.8143\n",
            "val Loss: 0.1688 Acc: 0.9167\n",
            "\n",
            "Epoch 5/24\n",
            "----------\n",
            "train Loss: 0.5844 Acc: 0.7848\n",
            "val Loss: 0.3069 Acc: 0.8500\n",
            "\n",
            "Epoch 6/24\n",
            "----------\n",
            "train Loss: 0.5500 Acc: 0.8481\n",
            "val Loss: 0.1242 Acc: 0.9500\n",
            "\n",
            "Epoch 7/24\n",
            "----------\n",
            "train Loss: 0.3798 Acc: 0.8523\n",
            "val Loss: 0.0979 Acc: 0.9667\n",
            "\n",
            "Epoch 8/24\n",
            "----------\n",
            "train Loss: 0.3707 Acc: 0.8481\n",
            "val Loss: 0.2045 Acc: 0.8667\n",
            "\n",
            "Epoch 9/24\n",
            "----------\n",
            "train Loss: 0.3493 Acc: 0.8776\n",
            "val Loss: 0.1403 Acc: 0.9500\n",
            "\n",
            "Epoch 10/24\n",
            "----------\n",
            "train Loss: 0.2921 Acc: 0.8819\n",
            "val Loss: 0.2232 Acc: 0.8833\n",
            "\n",
            "Epoch 11/24\n",
            "----------\n",
            "train Loss: 0.3273 Acc: 0.8565\n",
            "val Loss: 0.1351 Acc: 0.9667\n",
            "\n",
            "Epoch 12/24\n",
            "----------\n",
            "train Loss: 0.3044 Acc: 0.8861\n",
            "val Loss: 0.1464 Acc: 0.9500\n",
            "\n",
            "Epoch 13/24\n",
            "----------\n",
            "train Loss: 0.2918 Acc: 0.8945\n",
            "val Loss: 0.1948 Acc: 0.8833\n",
            "\n",
            "Epoch 14/24\n",
            "----------\n",
            "train Loss: 0.2760 Acc: 0.8861\n",
            "val Loss: 0.1841 Acc: 0.8833\n",
            "\n",
            "Epoch 15/24\n",
            "----------\n",
            "train Loss: 0.2788 Acc: 0.8903\n",
            "val Loss: 0.1382 Acc: 0.9333\n",
            "\n",
            "Epoch 16/24\n",
            "----------\n",
            "train Loss: 0.3803 Acc: 0.8523\n",
            "val Loss: 0.1328 Acc: 0.9667\n",
            "\n",
            "Epoch 17/24\n",
            "----------\n",
            "train Loss: 0.3375 Acc: 0.8439\n",
            "val Loss: 0.1387 Acc: 0.9500\n",
            "\n",
            "Epoch 18/24\n",
            "----------\n",
            "train Loss: 0.2952 Acc: 0.8608\n",
            "val Loss: 0.1309 Acc: 0.9667\n",
            "\n",
            "Epoch 19/24\n",
            "----------\n",
            "train Loss: 0.2810 Acc: 0.8819\n",
            "val Loss: 0.1265 Acc: 0.9667\n",
            "\n",
            "Epoch 20/24\n",
            "----------\n",
            "train Loss: 0.2766 Acc: 0.8776\n",
            "val Loss: 0.1312 Acc: 0.9833\n",
            "\n",
            "Epoch 21/24\n",
            "----------\n",
            "train Loss: 0.4077 Acc: 0.8650\n",
            "val Loss: 0.1290 Acc: 0.9667\n",
            "\n",
            "Epoch 22/24\n",
            "----------\n",
            "train Loss: 0.2705 Acc: 0.8861\n",
            "val Loss: 0.1354 Acc: 0.9833\n",
            "\n",
            "Epoch 23/24\n",
            "----------\n",
            "train Loss: 0.2727 Acc: 0.8987\n",
            "val Loss: 0.1258 Acc: 0.9833\n",
            "\n",
            "Epoch 24/24\n",
            "----------\n",
            "train Loss: 0.2376 Acc: 0.8861\n",
            "val Loss: 0.1918 Acc: 0.8667\n",
            "\n",
            "Training complete in 1m 5s\n",
            "Best val Acc: 0.983333\n"
          ],
          "name": "stdout"
        },
        {
          "output_type": "display_data",
          "data": {
            "image/png": "[encoded data removed]",
            "text/plain": [
              "<Figure size 432x288 with 1 Axes>"
            ]
          },
          "metadata": {
            "tags": [],
            "needs_background": "light"
          }
        },
        {
          "output_type": "display_data",
          "data": {
            "image/png": "[encoded data removed]",
            "text/plain": [
              "<Figure size 432x288 with 1 Axes>"
            ]
          },
          "metadata": {
            "tags": [],
            "needs_background": "light"
          }
        },
        {
          "output_type": "display_data",
          "data": {
            "image/png": "[encoded data removed]",
            "text/plain": [
              "<Figure size 432x288 with 1 Axes>"
            ]
          },
          "metadata": {
            "tags": [],
            "needs_background": "light"
          }
        },
        {
          "output_type": "display_data",
          "data": {
            "image/png": "[encoded data removed]",
            "text/plain": [
              "<Figure size 432x288 with 1 Axes>"
            ]
          },
          "metadata": {
            "tags": [],
            "needs_background": "light"
          }
        },
        {
          "output_type": "display_data",
          "data": {
            "image/png": "[encoded data removed]",
            "text/plain": [
              "<Figure size 432x288 with 1 Axes>"
            ]
          },
          "metadata": {
            "tags": [],
            "needs_background": "light"
          }
        },
        {
          "output_type": "display_data",
          "data": {
            "image/png": "[encoded data removed]",
            "text/plain": [
              "<Figure size 432x288 with 1 Axes>"
            ]
          },
          "metadata": {
            "tags": [],
            "needs_background": "light"
          }
        }
      ]
    },
    {
      "cell_type": "code",
      "metadata": {
        "colab": {
          "base_uri": "https://localhost:8080/",
          "height": 1000
        },
        "id": "gvtHpkpZ2Z36",
        "outputId": "cad90b50-a163-4893-a451-64fbecd7da2a"
      },
      "source": [
        "model_conv = torchvision.models.resnet18(pretrained=True)\n",
        "for param in model_conv.parameters():\n",
        "  param.requires_grad = False  #사전 학습된 모델의 가중치를 상수로 고정. 학습시키지 않음\n",
        "\n",
        "#새로 생성된 모듈의 파라미터는 기본적으로 requires_grad=True\n",
        "num_ftrs = model_conv.fc.in_features\n",
        "model_conv.fc = nn.Linear(num_ftrs, 2)\n",
        "\n",
        "model_conv = model_conv.to(device)\n",
        "criterion = nn.CrossEntropyLoss()\n",
        "\n",
        "#마지막 층의 파라미터만 학습\n",
        "optimizer_conv = optim.SGD(model_conv.fc.parameters(), lr=0.001, momentum=0.9)\n",
        "\n",
        "exp_lr_scheduler = lr_scheduler.StepLR(optimizer_conv, step_size=7, gamma=0.1)\n",
        "model_conv = train_model(model_conv, criterion, optimizer_conv, exp_lr_scheduler, num_epochs=25)\n",
        "\n",
        "visualize_model(model_conv)\n",
        "\n",
        "plt.ioff()\n",
        "plt.show()"
      ],
      "execution_count": 2,
      "outputs": [
        {
          "output_type": "stream",
          "text": [
            "Epoch 0/24\n",
            "----------\n"
          ],
          "name": "stdout"
        },
        {
          "output_type": "stream",
          "text": [
            "/usr/local/lib/python3.7/dist-packages/torch/optim/lr_scheduler.py:134: UserWarning: Detected call of `lr_scheduler.step()` before `optimizer.step()`. In PyTorch 1.1.0 and later, you should call them in the opposite order: `optimizer.step()` before `lr_scheduler.step()`.  Failure to do this will result in PyTorch skipping the first value of the learning rate schedule. See more details at https://pytorch.org/docs/stable/optim.html#how-to-adjust-learning-rate\n",
            "  \"https://pytorch.org/docs/stable/optim.html#how-to-adjust-learning-rate\", UserWarning)\n",
            "/usr/local/lib/python3.7/dist-packages/torch/utils/data/dataloader.py:477: UserWarning: This DataLoader will create 4 worker processes in total. Our suggested max number of worker in current system is 2, which is smaller than what this DataLoader is going to create. Please be aware that excessive worker creation might get DataLoader running slow or even freeze, lower the worker number to avoid potential slowness/freeze if necessary.\n",
            "  cpuset_checked))\n"
          ],
          "name": "stderr"
        },
        {
          "output_type": "stream",
          "text": [
            "train Loss: 0.6622 Acc: 0.6329\n",
            "val Loss: 0.6634 Acc: 0.7333\n",
            "\n",
            "Epoch 1/24\n",
            "----------\n",
            "train Loss: 0.6713 Acc: 0.7173\n",
            "val Loss: 0.4279 Acc: 0.7500\n",
            "\n",
            "Epoch 2/24\n",
            "----------\n",
            "train Loss: 0.6090 Acc: 0.7131\n",
            "val Loss: 0.5580 Acc: 0.7500\n",
            "\n",
            "Epoch 3/24\n",
            "----------\n",
            "train Loss: 0.5719 Acc: 0.7553\n",
            "val Loss: 0.5057 Acc: 0.7167\n",
            "\n",
            "Epoch 4/24\n",
            "----------\n",
            "train Loss: 0.7430 Acc: 0.7384\n",
            "val Loss: 0.5619 Acc: 0.7500\n",
            "\n",
            "Epoch 5/24\n",
            "----------\n",
            "train Loss: 0.4121 Acc: 0.8312\n",
            "val Loss: 1.2673 Acc: 0.7000\n",
            "\n",
            "Epoch 6/24\n",
            "----------\n",
            "train Loss: 0.7225 Acc: 0.7089\n",
            "val Loss: 0.5288 Acc: 0.7667\n",
            "\n",
            "Epoch 7/24\n",
            "----------\n",
            "train Loss: 0.4017 Acc: 0.8397\n",
            "val Loss: 0.4963 Acc: 0.7500\n",
            "\n",
            "Epoch 8/24\n",
            "----------\n",
            "train Loss: 0.4069 Acc: 0.7932\n",
            "val Loss: 0.4452 Acc: 0.7833\n",
            "\n",
            "Epoch 9/24\n",
            "----------\n",
            "train Loss: 0.4487 Acc: 0.7806\n",
            "val Loss: 0.4590 Acc: 0.7833\n",
            "\n",
            "Epoch 10/24\n",
            "----------\n",
            "train Loss: 0.3883 Acc: 0.8439\n",
            "val Loss: 0.5242 Acc: 0.7500\n",
            "\n",
            "Epoch 11/24\n",
            "----------\n",
            "train Loss: 0.4396 Acc: 0.7890\n",
            "val Loss: 0.5418 Acc: 0.7333\n",
            "\n",
            "Epoch 12/24\n",
            "----------\n",
            "train Loss: 0.4271 Acc: 0.8186\n",
            "val Loss: 0.5074 Acc: 0.7667\n",
            "\n",
            "Epoch 13/24\n",
            "----------\n",
            "train Loss: 0.4382 Acc: 0.8059\n",
            "val Loss: 0.4492 Acc: 0.7833\n",
            "\n",
            "Epoch 14/24\n",
            "----------\n",
            "train Loss: 0.3982 Acc: 0.8270\n",
            "val Loss: 0.5486 Acc: 0.7167\n",
            "\n",
            "Epoch 15/24\n",
            "----------\n",
            "train Loss: 0.3935 Acc: 0.8439\n",
            "val Loss: 0.4773 Acc: 0.7500\n",
            "\n",
            "Epoch 16/24\n",
            "----------\n",
            "train Loss: 0.4005 Acc: 0.8270\n",
            "val Loss: 0.4843 Acc: 0.7667\n",
            "\n",
            "Epoch 17/24\n",
            "----------\n",
            "train Loss: 0.3444 Acc: 0.8312\n",
            "val Loss: 0.4627 Acc: 0.7833\n",
            "\n",
            "Epoch 18/24\n",
            "----------\n",
            "train Loss: 0.4399 Acc: 0.8017\n",
            "val Loss: 0.4351 Acc: 0.8167\n",
            "\n",
            "Epoch 19/24\n",
            "----------\n",
            "train Loss: 0.4084 Acc: 0.8059\n",
            "val Loss: 0.4602 Acc: 0.7833\n",
            "\n",
            "Epoch 20/24\n",
            "----------\n",
            "train Loss: 0.3662 Acc: 0.8481\n",
            "val Loss: 0.4842 Acc: 0.8000\n",
            "\n",
            "Epoch 21/24\n",
            "----------\n",
            "train Loss: 0.4488 Acc: 0.8059\n",
            "val Loss: 0.4217 Acc: 0.7667\n",
            "\n",
            "Epoch 22/24\n",
            "----------\n",
            "train Loss: 0.3935 Acc: 0.8481\n",
            "val Loss: 0.4676 Acc: 0.7667\n",
            "\n",
            "Epoch 23/24\n",
            "----------\n",
            "train Loss: 0.4465 Acc: 0.7679\n",
            "val Loss: 0.4495 Acc: 0.7833\n",
            "\n",
            "Epoch 24/24\n",
            "----------\n",
            "train Loss: 0.3532 Acc: 0.8523\n",
            "val Loss: 0.5054 Acc: 0.7667\n",
            "\n",
            "Training complete in 0m 41s\n",
            "Best val Acc: 0.816667\n"
          ],
          "name": "stdout"
        },
        {
          "output_type": "display_data",
          "data": {
            "image/png": "[encoded data removed]",
            "text/plain": [
              "<Figure size 432x288 with 1 Axes>"
            ]
          },
          "metadata": {
            "tags": [],
            "needs_background": "light"
          }
        },
        {
          "output_type": "display_data",
          "data": {
            "image/png": "[encoded data removed]",
            "text/plain": [
              "<Figure size 432x288 with 1 Axes>"
            ]
          },
          "metadata": {
            "tags": [],
            "needs_background": "light"
          }
        },
        {
          "output_type": "display_data",
          "data": {
            "image/png": "[encoded data removed]",
            "text/plain": [
              "<Figure size 432x288 with 1 Axes>"
            ]
          },
          "metadata": {
            "tags": [],
            "needs_background": "light"
          }
        },
        {
          "output_type": "display_data",
          "data": {
            "image/png": "[encoded data removed]",
            "text/plain": [
              "<Figure size 432x288 with 1 Axes>"
            ]
          },
          "metadata": {
            "tags": [],
            "needs_background": "light"
          }
        },
        {
          "output_type": "display_data",
          "data": {
            "image/png": "[encoded data removed]",
            "text/plain": [
              "<Figure size 432x288 with 1 Axes>"
            ]
          },
          "metadata": {
            "tags": [],
            "needs_background": "light"
          }
        },
        {
          "output_type": "display_data",
          "data": {
            "image/png": "[encoded data removed]",
            "text/plain": [
              "<Figure size 432x288 with 1 Axes>"
            ]
          },
          "metadata": {
            "tags": [],
            "needs_background": "light"
          }
        }
      ]
    }
  ]
}