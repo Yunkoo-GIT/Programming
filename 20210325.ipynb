{
  "nbformat": 4,
  "nbformat_minor": 0,
  "metadata": {
    "colab": {
      "name": "20210325.ipynb",
      "provenance": [],
      "authorship_tag": "ABX9TyM9eaoJ45cYG/3yw8RlgcH/",
      "include_colab_link": true
    },
    "kernelspec": {
      "name": "python3",
      "display_name": "Python 3"
    },
    "language_info": {
      "name": "python"
    }
  },
  "cells": [
    {
      "cell_type": "markdown",
      "metadata": {
        "id": "view-in-github",
        "colab_type": "text"
      },
      "source": [
        "<a href=\"https://colab.research.google.com/github/Yunkoo-GIT/Programming/blob/main/20210325.ipynb\" target=\"_parent\"><img src=\"https://colab.research.google.com/assets/colab-badge.svg\" alt=\"Open In Colab\"/></a>"
      ]
    },
    {
      "cell_type": "code",
      "metadata": {
        "colab": {
          "base_uri": "https://localhost:8080/"
        },
        "id": "GUZXReQy8-oz",
        "outputId": "83602215-1a47-4742-b7eb-6cbbed629c91"
      },
      "source": [
        "import math\n",
        "\n",
        "def calCircle(r):\n",
        "  # 반지름이 r인 원의 넓이와 둘레를 동시에 반환하는 함수 (area, circum)\n",
        "  area = math.pi * r * r\n",
        "  circum = 2 * math.pi * r\n",
        "  return (area, circum)\n",
        "\n",
        "radius = float(input(\"원의 반지름을 입력하시오 : \"))\n",
        "(a, c) = calCircle(radius)\n",
        "print(\"원의 넓이는 \"+str(a)+\"이고 원의 둘레는 \"+str(c)+\"이다.\")"
      ],
      "execution_count": 4,
      "outputs": [
        {
          "output_type": "stream",
          "text": [
            "원의 반지름을 입력하시오 : 10\n",
            "원의 넓이는 314.1592653589793이고 원의 둘레는 62.83185307179586이다.\n"
          ],
          "name": "stdout"
        }
      ]
    }
  ]
}