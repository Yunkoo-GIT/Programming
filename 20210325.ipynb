{
  "nbformat": 4,
  "nbformat_minor": 0,
  "metadata": {
    "colab": {
      "name": "20210325.ipynb",
      "provenance": [],
      "authorship_tag": "ABX9TyM8k3zvV939VG06asO9xeIp",
      "include_colab_link": true
    },
    "kernelspec": {
      "name": "python3",
      "display_name": "Python 3"
    },
    "language_info": {
      "name": "python"
    }
  },
  "cells": [
    {
      "cell_type": "markdown",
      "metadata": {
        "id": "view-in-github",
        "colab_type": "text"
      },
      "source": [
        "<a href=\"https://colab.research.google.com/github/Yunkoo-GIT/Programming/blob/main/20210325.ipynb\" target=\"_parent\"><img src=\"https://colab.research.google.com/assets/colab-badge.svg\" alt=\"Open In Colab\"/></a>"
      ]
    },
    {
      "cell_type": "code",
      "metadata": {
        "colab": {
          "base_uri": "https://localhost:8080/"
        },
        "id": "GUZXReQy8-oz",
        "outputId": "83602215-1a47-4742-b7eb-6cbbed629c91"
      },
      "source": [
        "import math\n",
        "\n",
        "def calCircle(r):\n",
        "  # 반지름이 r인 원의 넓이와 둘레를 동시에 반환하는 함수 (area, circum)\n",
        "  area = math.pi * r * r\n",
        "  circum = 2 * math.pi * r\n",
        "  return (area, circum)\n",
        "\n",
        "radius = float(input(\"원의 반지름을 입력하시오 : \"))\n",
        "(a, c) = calCircle(radius)\n",
        "print(\"원의 넓이는 \"+str(a)+\"이고 원의 둘레는 \"+str(c)+\"이다.\")"
      ],
      "execution_count": 4,
      "outputs": [
        {
          "output_type": "stream",
          "text": [
            "원의 반지름을 입력하시오 : 10\n",
            "원의 넓이는 314.1592653589793이고 원의 둘레는 62.83185307179586이다.\n"
          ],
          "name": "stdout"
        }
      ]
    },
    {
      "cell_type": "code",
      "metadata": {
        "colab": {
          "base_uri": "https://localhost:8080/"
        },
        "id": "n9AKk3hJ9xpo",
        "outputId": "6681e06d-0939-4561-cd38-bfa3d393cdfd"
      },
      "source": [
        "numbers = {2, 1, 3}\n",
        "numbers"
      ],
      "execution_count": 6,
      "outputs": [
        {
          "output_type": "execute_result",
          "data": {
            "text/plain": [
              "{1, 2, 3}"
            ]
          },
          "metadata": {
            "tags": []
          },
          "execution_count": 6
        }
      ]
    },
    {
      "cell_type": "code",
      "metadata": {
        "colab": {
          "base_uri": "https://localhost:8080/"
        },
        "id": "zXEKGkmQBqza",
        "outputId": "936b05ec-ae22-47c7-ad4e-511daad1fc07"
      },
      "source": [
        "len(numbers)"
      ],
      "execution_count": 7,
      "outputs": [
        {
          "output_type": "execute_result",
          "data": {
            "text/plain": [
              "3"
            ]
          },
          "metadata": {
            "tags": []
          },
          "execution_count": 7
        }
      ]
    },
    {
      "cell_type": "code",
      "metadata": {
        "id": "fWYgX6M_Bt0r"
      },
      "source": [
        "fruits = {\"Apple\", \"Banana\", \"Pineapple\"}\n",
        "mySet = {1.0, 2.0, \"Hello World\", (1, 2, 3)}"
      ],
      "execution_count": 8,
      "outputs": []
    },
    {
      "cell_type": "code",
      "metadata": {
        "colab": {
          "base_uri": "https://localhost:8080/"
        },
        "id": "xXlbnvdfB8-5",
        "outputId": "2a5097a9-1fe5-485c-82a7-882f822a532b"
      },
      "source": [
        "fruits"
      ],
      "execution_count": 9,
      "outputs": [
        {
          "output_type": "execute_result",
          "data": {
            "text/plain": [
              "{'Apple', 'Banana', 'Pineapple'}"
            ]
          },
          "metadata": {
            "tags": []
          },
          "execution_count": 9
        }
      ]
    },
    {
      "cell_type": "code",
      "metadata": {
        "colab": {
          "base_uri": "https://localhost:8080/"
        },
        "id": "s3bSL99CB_OA",
        "outputId": "9dfdb7a2-a8d5-4852-ae45-a7d7bff9fb54"
      },
      "source": [
        "mySet"
      ],
      "execution_count": 10,
      "outputs": [
        {
          "output_type": "execute_result",
          "data": {
            "text/plain": [
              "{(1, 2, 3), 1.0, 2.0, 'Hello World'}"
            ]
          },
          "metadata": {
            "tags": []
          },
          "execution_count": 10
        }
      ]
    },
    {
      "cell_type": "code",
      "metadata": {
        "colab": {
          "base_uri": "https://localhost:8080/"
        },
        "id": "paFjEJ5aCDZK",
        "outputId": "cebcdd67-28db-4f4e-b573-107e00b284c0"
      },
      "source": [
        "english_dict = dict()\n",
        "\n",
        "english_dict['one'] = '하나'\n",
        "english_dict['two'] = '둘'\n",
        "english_dict['three'] = '셋'\n",
        "\n",
        "word = input(\"단어를 입력하시오: \");\n",
        "print (english_dict.get(word, \"없음\"))"
      ],
      "execution_count": 14,
      "outputs": [
        {
          "output_type": "stream",
          "text": [
            "단어를 입력하시오: two\n",
            "둘\n"
          ],
          "name": "stdout"
        }
      ]
    },
    {
      "cell_type": "code",
      "metadata": {
        "colab": {
          "base_uri": "https://localhost:8080/",
          "height": 35
        },
        "id": "86qPMFXhGBSP",
        "outputId": "fec72651-03c9-4c2d-8b0b-7328979fd7b6"
      },
      "source": [
        "word = 'Python'\n",
        "word[0:2]"
      ],
      "execution_count": 15,
      "outputs": [
        {
          "output_type": "execute_result",
          "data": {
            "application/vnd.google.colaboratory.intrinsic+json": {
              "type": "string"
            },
            "text/plain": [
              "'Py'"
            ]
          },
          "metadata": {
            "tags": []
          },
          "execution_count": 15
        }
      ]
    },
    {
      "cell_type": "code",
      "metadata": {
        "colab": {
          "base_uri": "https://localhost:8080/",
          "height": 35
        },
        "id": "LzFL-RFYIlDu",
        "outputId": "44703231-85d6-489c-d599-4508761db852"
      },
      "source": [
        "word[2:5]"
      ],
      "execution_count": 16,
      "outputs": [
        {
          "output_type": "execute_result",
          "data": {
            "application/vnd.google.colaboratory.intrinsic+json": {
              "type": "string"
            },
            "text/plain": [
              "'tho'"
            ]
          },
          "metadata": {
            "tags": []
          },
          "execution_count": 16
        }
      ]
    }
  ]
}