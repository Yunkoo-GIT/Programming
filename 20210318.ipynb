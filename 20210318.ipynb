{
  "nbformat": 4,
  "nbformat_minor": 0,
  "metadata": {
    "colab": {
      "name": "20210318.ipynb",
      "provenance": [],
      "authorship_tag": "ABX9TyMseNo1vWlorIobq9FF076d",
      "include_colab_link": true
    },
    "kernelspec": {
      "name": "python3",
      "display_name": "Python 3"
    }
  },
  "cells": [
    {
      "cell_type": "markdown",
      "metadata": {
        "id": "view-in-github",
        "colab_type": "text"
      },
      "source": [
        "<a href=\"https://colab.research.google.com/github/Yunkoo-GIT/Programming/blob/main/20210318.ipynb\" target=\"_parent\"><img src=\"https://colab.research.google.com/assets/colab-badge.svg\" alt=\"Open In Colab\"/></a>"
      ]
    },
    {
      "cell_type": "code",
      "metadata": {
        "colab": {
          "base_uri": "https://localhost:8080/"
        },
        "id": "-_walJP_zLwU",
        "outputId": "63480679-76e2-475c-bcc0-d7dca60ecb30"
      },
      "source": [
        "scores = []\r\n",
        "for i in range(10):\r\n",
        "  scores.append(int(input(\"성적을 입력하시오 : \")))\r\n",
        "print(scores)"
      ],
      "execution_count": 1,
      "outputs": [
        {
          "output_type": "stream",
          "text": [
            "성적을 입력하시오 : 50\n",
            "성적을 입력하시오 : 80\n",
            "성적을 입력하시오 : 90\n",
            "성적을 입력하시오 : 33\n",
            "성적을 입력하시오 : 54\n",
            "성적을 입력하시오 : 98\n",
            "성적을 입력하시오 : 67\n",
            "성적을 입력하시오 : 87\n",
            "성적을 입력하시오 : 99\n",
            "성적을 입력하시오 : 45\n",
            "[50, 80, 90, 33, 54, 98, 67, 87, 99, 45]\n"
          ],
          "name": "stdout"
        }
      ]
    }
  ]
}