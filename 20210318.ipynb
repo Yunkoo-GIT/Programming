{
  "nbformat": 4,
  "nbformat_minor": 0,
  "metadata": {
    "colab": {
      "name": "20210318.ipynb",
      "provenance": [],
      "authorship_tag": "ABX9TyPPAAs+/e5BhrMYvYSsQkJO",
      "include_colab_link": true
    },
    "kernelspec": {
      "name": "python3",
      "display_name": "Python 3"
    }
  },
  "cells": [
    {
      "cell_type": "markdown",
      "metadata": {
        "id": "view-in-github",
        "colab_type": "text"
      },
      "source": [
        "<a href=\"https://colab.research.google.com/github/Yunkoo-GIT/Programming/blob/main/20210318.ipynb\" target=\"_parent\"><img src=\"https://colab.research.google.com/assets/colab-badge.svg\" alt=\"Open In Colab\"/></a>"
      ]
    },
    {
      "cell_type": "code",
      "metadata": {
        "colab": {
          "base_uri": "https://localhost:8080/"
        },
        "id": "-_walJP_zLwU",
        "outputId": "63480679-76e2-475c-bcc0-d7dca60ecb30"
      },
      "source": [
        "scores = []\r\n",
        "for i in range(10):\r\n",
        "  scores.append(int(input(\"성적을 입력하시오 : \")))\r\n",
        "print(scores)"
      ],
      "execution_count": 1,
      "outputs": [
        {
          "output_type": "stream",
          "text": [
            "성적을 입력하시오 : 50\n",
            "성적을 입력하시오 : 80\n",
            "성적을 입력하시오 : 90\n",
            "성적을 입력하시오 : 33\n",
            "성적을 입력하시오 : 54\n",
            "성적을 입력하시오 : 98\n",
            "성적을 입력하시오 : 67\n",
            "성적을 입력하시오 : 87\n",
            "성적을 입력하시오 : 99\n",
            "성적을 입력하시오 : 45\n",
            "[50, 80, 90, 33, 54, 98, 67, 87, 99, 45]\n"
          ],
          "name": "stdout"
        }
      ]
    },
    {
      "cell_type": "code",
      "metadata": {
        "colab": {
          "base_uri": "https://localhost:8080/"
        },
        "id": "e5Nh8bFC0xOq",
        "outputId": "91dc76ad-6e04-46c1-9ec6-f30d91484bf2"
      },
      "source": [
        "list2 = list(\"Hello\")\r\n",
        "print(list2)"
      ],
      "execution_count": 2,
      "outputs": [
        {
          "output_type": "stream",
          "text": [
            "['H', 'e', 'l', 'l', 'o']\n"
          ],
          "name": "stdout"
        }
      ]
    },
    {
      "cell_type": "code",
      "metadata": {
        "colab": {
          "base_uri": "https://localhost:8080/"
        },
        "id": "uVmfyy_q2xET",
        "outputId": "db86184b-3c3a-4fe9-f218-8e4ad072b4bd"
      },
      "source": [
        "STUDENTS = 5\r\n",
        "\r\n",
        "scores = []\r\n",
        "scoreSum = 0\r\n",
        "\r\n",
        "for i in range(STUDENTS):\r\n",
        "  value = int(input(\"성적을 입력하시오 : \"))\r\n",
        "  scores.append(value)\r\n",
        "  scoreSum += value\r\n",
        "  # print(scores)\r\n",
        "  # print(scoreSum)\r\n",
        "\r\n",
        "scoreAvg = scoreSum / len(scores)\r\n",
        "\r\n",
        "highScoreStudents = 0\r\n",
        "for i in range(len(scores)):\r\n",
        "  if scores[i] >= 80:\r\n",
        "    highScoreStudents += 1\r\n",
        "\r\n",
        "print(\"성적 평균은 \", scoreAvg, \"입니다.\")\r\n",
        "print(\"80점 이상 성적을 받은 학생은 \", highScoreStudents, \"명 입니다.\")"
      ],
      "execution_count": 6,
      "outputs": [
        {
          "output_type": "stream",
          "text": [
            "성적을 입력하시오 : 88\n",
            "성적을 입력하시오 : 90\n",
            "성적을 입력하시오 : 70\n",
            "성적을 입력하시오 : 50\n",
            "성적을 입력하시오 : 87\n",
            "성적 평균은  77.0 입니다.\n",
            "80점 이상 성적을 받은 학생은  3 명 입니다.\n"
          ],
          "name": "stdout"
        }
      ]
    }
  ]
}