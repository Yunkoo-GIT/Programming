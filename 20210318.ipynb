{
  "nbformat": 4,
  "nbformat_minor": 0,
  "metadata": {
    "colab": {
      "name": "20210318.ipynb",
      "provenance": [],
      "authorship_tag": "ABX9TyM/OFye7E12TsBwax+jRskC",
      "include_colab_link": true
    },
    "kernelspec": {
      "name": "python3",
      "display_name": "Python 3"
    }
  },
  "cells": [
    {
      "cell_type": "markdown",
      "metadata": {
        "id": "view-in-github",
        "colab_type": "text"
      },
      "source": [
        "<a href=\"https://colab.research.google.com/github/Yunkoo-GIT/Programming/blob/main/20210318.ipynb\" target=\"_parent\"><img src=\"https://colab.research.google.com/assets/colab-badge.svg\" alt=\"Open In Colab\"/></a>"
      ]
    },
    {
      "cell_type": "code",
      "metadata": {
        "colab": {
          "base_uri": "https://localhost:8080/"
        },
        "id": "-_walJP_zLwU",
        "outputId": "63480679-76e2-475c-bcc0-d7dca60ecb30"
      },
      "source": [
        "scores = []\r\n",
        "for i in range(10):\r\n",
        "  scores.append(int(input(\"성적을 입력하시오 : \")))\r\n",
        "print(scores)"
      ],
      "execution_count": 1,
      "outputs": [
        {
          "output_type": "stream",
          "text": [
            "성적을 입력하시오 : 50\n",
            "성적을 입력하시오 : 80\n",
            "성적을 입력하시오 : 90\n",
            "성적을 입력하시오 : 33\n",
            "성적을 입력하시오 : 54\n",
            "성적을 입력하시오 : 98\n",
            "성적을 입력하시오 : 67\n",
            "성적을 입력하시오 : 87\n",
            "성적을 입력하시오 : 99\n",
            "성적을 입력하시오 : 45\n",
            "[50, 80, 90, 33, 54, 98, 67, 87, 99, 45]\n"
          ],
          "name": "stdout"
        }
      ]
    },
    {
      "cell_type": "code",
      "metadata": {
        "colab": {
          "base_uri": "https://localhost:8080/"
        },
        "id": "e5Nh8bFC0xOq",
        "outputId": "91dc76ad-6e04-46c1-9ec6-f30d91484bf2"
      },
      "source": [
        "list2 = list(\"Hello\")\r\n",
        "print(list2)"
      ],
      "execution_count": 2,
      "outputs": [
        {
          "output_type": "stream",
          "text": [
            "['H', 'e', 'l', 'l', 'o']\n"
          ],
          "name": "stdout"
        }
      ]
    },
    {
      "cell_type": "code",
      "metadata": {
        "colab": {
          "base_uri": "https://localhost:8080/"
        },
        "id": "uVmfyy_q2xET",
        "outputId": "db86184b-3c3a-4fe9-f218-8e4ad072b4bd"
      },
      "source": [
        "STUDENTS = 5\r\n",
        "\r\n",
        "scores = []\r\n",
        "scoreSum = 0\r\n",
        "\r\n",
        "for i in range(STUDENTS):\r\n",
        "  value = int(input(\"성적을 입력하시오 : \"))\r\n",
        "  scores.append(value)\r\n",
        "  scoreSum += value\r\n",
        "  # print(scores)\r\n",
        "  # print(scoreSum)\r\n",
        "\r\n",
        "scoreAvg = scoreSum / len(scores)\r\n",
        "\r\n",
        "highScoreStudents = 0\r\n",
        "for i in range(len(scores)):\r\n",
        "  if scores[i] >= 80:\r\n",
        "    highScoreStudents += 1\r\n",
        "\r\n",
        "print(\"성적 평균은 \", scoreAvg, \"입니다.\")\r\n",
        "print(\"80점 이상 성적을 받은 학생은 \", highScoreStudents, \"명 입니다.\")"
      ],
      "execution_count": 6,
      "outputs": [
        {
          "output_type": "stream",
          "text": [
            "성적을 입력하시오 : 88\n",
            "성적을 입력하시오 : 90\n",
            "성적을 입력하시오 : 70\n",
            "성적을 입력하시오 : 50\n",
            "성적을 입력하시오 : 87\n",
            "성적 평균은  77.0 입니다.\n",
            "80점 이상 성적을 받은 학생은  3 명 입니다.\n"
          ],
          "name": "stdout"
        }
      ]
    },
    {
      "cell_type": "code",
      "metadata": {
        "colab": {
          "base_uri": "https://localhost:8080/"
        },
        "id": "fxL8-cPZ6LsD",
        "outputId": "2c010769-a3c2-4176-f34e-ce92380832e2"
      },
      "source": [
        "text = \"Will is power.\"\r\n",
        "print(text[0], text[3], text[-1])\r\n",
        "\r\n",
        "flist = [\"apple\", \"banana\", \"tomato\", \"peach\", \"pear\"]\r\n",
        "print(flist[0], flist[3], flist[-1])"
      ],
      "execution_count": 9,
      "outputs": [
        {
          "output_type": "stream",
          "text": [
            "W l .\n",
            "apple peach pear\n"
          ],
          "name": "stdout"
        }
      ]
    },
    {
      "cell_type": "code",
      "metadata": {
        "colab": {
          "base_uri": "https://localhost:8080/"
        },
        "id": "hqTCSQDcAw9G",
        "outputId": "e153e7d3-f88d-46d0-ad1c-35bc1c796ac2"
      },
      "source": [
        "flist"
      ],
      "execution_count": 10,
      "outputs": [
        {
          "output_type": "execute_result",
          "data": {
            "text/plain": [
              "['apple', 'banana', 'tomato', 'peach', 'pear']"
            ]
          },
          "metadata": {
            "tags": []
          },
          "execution_count": 10
        }
      ]
    },
    {
      "cell_type": "code",
      "metadata": {
        "colab": {
          "base_uri": "https://localhost:8080/"
        },
        "id": "lWZvgwg5B1IL",
        "outputId": "9d5a7fcf-8d45-4b0a-cff5-090f5da1e400"
      },
      "source": [
        "def callByValue(x):\r\n",
        "  print(\"x = \", x)\r\n",
        "  x = 50\r\n",
        "  print(\"x = \", x)\r\n",
        "\r\n",
        "y = 30\r\n",
        "print(\"y = \", y)\r\n",
        "callByValue(y)\r\n",
        "print(\"y = \", y)"
      ],
      "execution_count": 11,
      "outputs": [
        {
          "output_type": "stream",
          "text": [
            "y =  30\n",
            "x =  30\n",
            "x =  50\n",
            "y =  30\n"
          ],
          "name": "stdout"
        }
      ]
    },
    {
      "cell_type": "code",
      "metadata": {
        "colab": {
          "base_uri": "https://localhost:8080/"
        },
        "id": "FD4PzaEdC8GO",
        "outputId": "a44a23d3-d211-4f33-83e1-eef6a5fb1774"
      },
      "source": [
        "def callByReference(list):\r\n",
        "  list[0] = 100\r\n",
        "\r\n",
        "values = [0, 1, 2, 3, 4, 5]\r\n",
        "print(values)\r\n",
        "callByReference(values)\r\n",
        "print(values)"
      ],
      "execution_count": 13,
      "outputs": [
        {
          "output_type": "stream",
          "text": [
            "[0, 1, 2, 3, 4, 5]\n",
            "[100, 1, 2, 3, 4, 5]\n"
          ],
          "name": "stdout"
        }
      ]
    },
    {
      "cell_type": "code",
      "metadata": {
        "colab": {
          "base_uri": "https://localhost:8080/"
        },
        "id": "rEjeKw4wDf0d",
        "outputId": "9d8b15f6-26b2-410e-ccb0-fcc1742f5c92"
      },
      "source": [
        "list1 = [3, 4, 5]\r\n",
        "list2 = [x*2 for x in list1]\r\n",
        "print(list2)"
      ],
      "execution_count": 14,
      "outputs": [
        {
          "output_type": "stream",
          "text": [
            "[6, 8, 10]\n"
          ],
          "name": "stdout"
        }
      ]
    },
    {
      "cell_type": "code",
      "metadata": {
        "colab": {
          "base_uri": "https://localhost:8080/"
        },
        "id": "n71-whayFzzg",
        "outputId": "bb50c1ba-e795-4d92-b174-57c7f3ace2ae"
      },
      "source": [
        "list = [\"All\", \"good\", \"things\", \"must\", \"come\", \"to\", \"an\", \"end\"]\r\n",
        "items = [word[0] for word in list]\r\n",
        "print(items)"
      ],
      "execution_count": 17,
      "outputs": [
        {
          "output_type": "stream",
          "text": [
            "['A', 'g', 't', 'm', 'c', 't', 'a', 'e']\n"
          ],
          "name": "stdout"
        }
      ]
    },
    {
      "cell_type": "code",
      "metadata": {
        "colab": {
          "base_uri": "https://localhost:8080/"
        },
        "id": "Cgnv_6eZHDUj",
        "outputId": "dd4e2201-e4a7-4078-f6eb-67dbcf70ce24"
      },
      "source": [
        "colors = [\"white\", \"silver\", \"black\"]\r\n",
        "cars = [\"BMW5\", \"Sonata\"]\r\n",
        "colored_cars = [(x,y) for x in colors for y in cars]\r\n",
        "print(colored_cars)"
      ],
      "execution_count": 18,
      "outputs": [
        {
          "output_type": "stream",
          "text": [
            "[('white', 'BMW5'), ('white', 'Sonata'), ('silver', 'BMW5'), ('silver', 'Sonata'), ('black', 'BMW5'), ('black', 'Sonata')]\n"
          ],
          "name": "stdout"
        }
      ]
    }
  ]
}