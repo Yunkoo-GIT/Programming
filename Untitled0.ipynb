{
  "nbformat": 4,
  "nbformat_minor": 0,
  "metadata": {
    "colab": {
      "name": "Untitled0.ipynb",
      "provenance": [],
      "authorship_tag": "ABX9TyNUO/40nq8t2Q+Hx4eJbR/+",
      "include_colab_link": true
    },
    "kernelspec": {
      "name": "python3",
      "display_name": "Python 3"
    }
  },
  "cells": [
    {
      "cell_type": "markdown",
      "metadata": {
        "id": "view-in-github",
        "colab_type": "text"
      },
      "source": [
        "<a href=\"https://colab.research.google.com/github/Yunkoo-GIT/Programming/blob/main/Untitled0.ipynb\" target=\"_parent\"><img src=\"https://colab.research.google.com/assets/colab-badge.svg\" alt=\"Open In Colab\"/></a>"
      ]
    },
    {
      "cell_type": "code",
      "metadata": {
        "colab": {
          "base_uri": "https://localhost:8080/"
        },
        "id": "EtJ6lBPbDXxB",
        "outputId": "68afb02a-6608-4d74-9a19-3a9e52ef9354"
      },
      "source": [
        "number = int(input(\"참석자의 수를 입력하시오 : \"))\n",
        "chickens = number\n",
        "beers = number * 2\n",
        "cakes = number * 4\n",
        "print(\"치킨의 수 : \", chickens)\n",
        "print(\"맥주의 수 : \", beers)\n",
        "print(\"케익의 수 : \", cakes)"
      ],
      "execution_count": 1,
      "outputs": [
        {
          "output_type": "stream",
          "text": [
            "참석자의 수를 입력하시오 : 5\n",
            "치킨의 수 :  5\n",
            "맥주의 수 :  10\n",
            "케익의 수 :  20\n"
          ],
          "name": "stdout"
        }
      ]
    },
    {
      "cell_type": "code",
      "metadata": {
        "colab": {
          "base_uri": "https://localhost:8080/"
        },
        "id": "fVlLEg-5F9a8",
        "outputId": "9af88906-a73a-49ce-93f2-1b493d6ec47d"
      },
      "source": [
        "from math import *\r\n",
        "\r\n",
        "time1 = 10/20\r\n",
        "hill = sqrt(3**2+4**2)\r\n",
        "time2 = hill/10\r\n",
        "time3 = hill/30\r\n",
        "time4 = 8/20\r\n",
        "total = time1+time2+time3+time4\r\n",
        "print(total)"
      ],
      "execution_count": 2,
      "outputs": [
        {
          "output_type": "stream",
          "text": [
            "1.5666666666666669\n"
          ],
          "name": "stdout"
        }
      ]
    },
    {
      "cell_type": "code",
      "metadata": {
        "colab": {
          "base_uri": "https://localhost:8080/"
        },
        "id": "cySLsUSYHGnB",
        "outputId": "fe88ec35-5d34-4c4d-a738-79391b069844"
      },
      "source": [
        "shopping_list = ['milk', 'eggs', 'cheese', 'butter', 'cream']\r\n",
        "print(shopping_list)\r\n",
        "print(shopping_list[2])\r\n",
        "shopping_list[2]='apple'\r\n",
        "print(shopping_list)"
      ],
      "execution_count": 3,
      "outputs": [
        {
          "output_type": "stream",
          "text": [
            "['milk', 'eggs', 'cheese', 'butter', 'cream']\n",
            "cheese\n",
            "['milk', 'eggs', 'apple', 'butter', 'cream']\n"
          ],
          "name": "stdout"
        }
      ]
    }
  ]
}