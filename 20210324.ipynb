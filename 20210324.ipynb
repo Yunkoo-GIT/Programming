{
  "nbformat": 4,
  "nbformat_minor": 0,
  "metadata": {
    "colab": {
      "name": "20210324.ipynb",
      "provenance": [],
      "authorship_tag": "ABX9TyP3gli9R9rIq5QWOzlkd07M",
      "include_colab_link": true
    },
    "kernelspec": {
      "name": "python3",
      "display_name": "Python 3"
    },
    "language_info": {
      "name": "python"
    }
  },
  "cells": [
    {
      "cell_type": "markdown",
      "metadata": {
        "id": "view-in-github",
        "colab_type": "text"
      },
      "source": [
        "<a href=\"https://colab.research.google.com/github/Yunkoo-GIT/Programming/blob/main/20210324.ipynb\" target=\"_parent\"><img src=\"https://colab.research.google.com/assets/colab-badge.svg\" alt=\"Open In Colab\"/></a>"
      ]
    },
    {
      "cell_type": "code",
      "metadata": {
        "colab": {
          "base_uri": "https://localhost:8080/"
        },
        "id": "JZ5lKOWsgLw3",
        "outputId": "9d35c9b6-3eb5-4164-b13e-588ad3154bb4"
      },
      "source": [
        "from durable.lang import *\n",
        "\n",
        "with ruleset('animal'):\n",
        "    @when_all(c.first << (m.predicate == 'eats') & (m.object == 'flies'),\n",
        "              (m.predicate == 'lives') & (m.object == 'water') & (m.subject == c.first.subject))\n",
        "    def frog(c):\n",
        "        c.assert_fact({ 'subject': c.first.subject, 'predicate': 'is', 'object': 'frog' })\n",
        "\n",
        "    @when_all(c.first << (m.predicate == 'eats') & (m.object == 'flies'),\n",
        "              (m.predicate == 'lives') & (m.object == 'land') & (m.subject == c.first.subject))\n",
        "    def chameleon(c):\n",
        "        c.assert_fact({ 'subject': c.first.subject, 'predicate': 'is', 'object': 'chameleon' })\n",
        "\n",
        "    @when_all((m.predicate == 'eats') & (m.object == 'worms'))\n",
        "    def bird(c):\n",
        "        c.assert_fact({ 'subject': c.m.subject, 'predicate': 'is', 'object': 'bird' })\n",
        "\n",
        "    @when_all((m.predicate == 'is') & (m.object == 'frog'))\n",
        "    def green(c):\n",
        "        c.assert_fact({ 'subject': c.m.subject, 'predicate': 'is', 'object': 'green' })\n",
        "\n",
        "    @when_all((m.predicate == 'is') & (m.object == 'chameleon'))\n",
        "    def grey(c):\n",
        "        c.assert_fact({ 'subject': c.m.subject, 'predicate': 'is', 'object': 'grey' })\n",
        "\n",
        "    @when_all((m.predicate == 'is') & (m.object == 'bird'))\n",
        "    def black(c):\n",
        "        c.assert_fact({ 'subject': c.m.subject, 'predicate': 'is', 'object': 'black' })\n",
        "\n",
        "    @when_all(+m.subject)\n",
        "    def output(c):\n",
        "        print('Fact: {0} {1} {2}'.format(c.m.subject, c.m.predicate, c.m.object))\n",
        "\n",
        "\n",
        "assert_fact('animal', { 'subject': 'Kermit', 'predicate': 'eats', 'object': 'flies' })\n",
        "assert_fact('animal', { 'subject': 'Kermit', 'predicate': 'lives', 'object': 'water' })\n",
        "assert_fact('animal', { 'subject': 'Greedy', 'predicate': 'eats', 'object': 'flies' })\n",
        "assert_fact('animal', { 'subject': 'Greedy', 'predicate': 'lives', 'object': 'land' })\n",
        "assert_fact('animal', { 'subject': 'Tweety', 'predicate': 'eats', 'object': 'worms' })"
      ],
      "execution_count": 3,
      "outputs": [
        {
          "output_type": "stream",
          "text": [
            "Fact: Kermit eats flies\n",
            "Fact: Kermit is green\n",
            "Fact: Kermit is frog\n",
            "Fact: Kermit lives water\n",
            "Fact: Greedy eats flies\n",
            "Fact: Greedy is grey\n",
            "Fact: Greedy is chameleon\n",
            "Fact: Greedy lives land\n",
            "Fact: Tweety is black\n",
            "Fact: Tweety is bird\n",
            "Fact: Tweety eats worms\n"
          ],
          "name": "stdout"
        },
        {
          "output_type": "execute_result",
          "data": {
            "text/plain": [
              "{'$s': 1, 'id': 'sid-0', 'sid': '0'}"
            ]
          },
          "metadata": {
            "tags": []
          },
          "execution_count": 3
        }
      ]
    }
  ]
}