{
  "nbformat": 4,
  "nbformat_minor": 0,
  "metadata": {
    "colab": {
      "name": "20210415.ipynb",
      "provenance": [],
      "authorship_tag": "ABX9TyOUwS9kI8sNFgJ2MUbvsvjO",
      "include_colab_link": true
    },
    "kernelspec": {
      "name": "python3",
      "display_name": "Python 3"
    },
    "language_info": {
      "name": "python"
    }
  },
  "cells": [
    {
      "cell_type": "markdown",
      "metadata": {
        "id": "view-in-github",
        "colab_type": "text"
      },
      "source": [
        "<a href=\"https://colab.research.google.com/github/Yunkoo-GIT/Programming/blob/main/20210415.ipynb\" target=\"_parent\"><img src=\"https://colab.research.google.com/assets/colab-badge.svg\" alt=\"Open In Colab\"/></a>"
      ]
    },
    {
      "cell_type": "code",
      "metadata": {
        "colab": {
          "base_uri": "https://localhost:8080/"
        },
        "id": "EZmws1dDMwa4",
        "outputId": "7e84d093-2810-4255-a371-24c9bdfc6116"
      },
      "source": [
        "eval(\"1+2\")"
      ],
      "execution_count": 1,
      "outputs": [
        {
          "output_type": "execute_result",
          "data": {
            "text/plain": [
              "3"
            ]
          },
          "metadata": {
            "tags": []
          },
          "execution_count": 1
        }
      ]
    },
    {
      "cell_type": "code",
      "metadata": {
        "colab": {
          "base_uri": "https://localhost:8080/"
        },
        "id": "sbXdpzMlM-uN",
        "outputId": "e7af0584-6694-4ec1-c6ca-24761e6380a9"
      },
      "source": [
        "x = 1\n",
        "y = 1\n",
        "eval('x+y')"
      ],
      "execution_count": 2,
      "outputs": [
        {
          "output_type": "execute_result",
          "data": {
            "text/plain": [
              "2"
            ]
          },
          "metadata": {
            "tags": []
          },
          "execution_count": 2
        }
      ]
    },
    {
      "cell_type": "code",
      "metadata": {
        "colab": {
          "base_uri": "https://localhost:8080/"
        },
        "id": "mvhG8qyINGQz",
        "outputId": "f51a718e-42b4-4e02-88d9-7d598b79b39f"
      },
      "source": [
        "eval(\"print('Hi~')\")"
      ],
      "execution_count": 3,
      "outputs": [
        {
          "output_type": "stream",
          "text": [
            "Hi~\n"
          ],
          "name": "stdout"
        }
      ]
    },
    {
      "cell_type": "code",
      "metadata": {
        "colab": {
          "base_uri": "https://localhost:8080/"
        },
        "id": "I0XMiQIqNNZ8",
        "outputId": "a37b3252-d16f-4496-a715-cbaf15a27783"
      },
      "source": [
        "expression = input(\"Enter an expression \")\n",
        "eval(expression)"
      ],
      "execution_count": 6,
      "outputs": [
        {
          "output_type": "stream",
          "text": [
            "Enter an expression 15\n"
          ],
          "name": "stdout"
        },
        {
          "output_type": "execute_result",
          "data": {
            "text/plain": [
              "15"
            ]
          },
          "metadata": {
            "tags": []
          },
          "execution_count": 6
        }
      ]
    },
    {
      "cell_type": "code",
      "metadata": {
        "colab": {
          "base_uri": "https://localhost:8080/"
        },
        "id": "S-bMW2UBNcfj",
        "outputId": "87014687-3ace-4b58-e327-7d8410c84e56"
      },
      "source": [
        "students = [('홍길동', 3.9, 20160303),\n",
        "            ('김철수', 3.0, 20160302),\n",
        "            ('최무선', 4.3, 20160301)]\n",
        "\n",
        "sorted(students, key = lambda student: student[2])"
      ],
      "execution_count": 7,
      "outputs": [
        {
          "output_type": "execute_result",
          "data": {
            "text/plain": [
              "[('최무선', 4.3, 20160301), ('김철수', 3.0, 20160302), ('홍길동', 3.9, 20160303)]"
            ]
          },
          "metadata": {
            "tags": []
          },
          "execution_count": 7
        }
      ]
    },
    {
      "cell_type": "code",
      "metadata": {
        "colab": {
          "base_uri": "https://localhost:8080/"
        },
        "id": "TSaXu8VTN8aK",
        "outputId": "9ae988b1-47a3-4243-da03-cbb948e37043"
      },
      "source": [
        "sorted(students, key = lambda student: student[0])"
      ],
      "execution_count": 8,
      "outputs": [
        {
          "output_type": "execute_result",
          "data": {
            "text/plain": [
              "[('김철수', 3.0, 20160302), ('최무선', 4.3, 20160301), ('홍길동', 3.9, 20160303)]"
            ]
          },
          "metadata": {
            "tags": []
          },
          "execution_count": 8
        }
      ]
    },
    {
      "cell_type": "code",
      "metadata": {
        "colab": {
          "base_uri": "https://localhost:8080/"
        },
        "id": "dCWpG5oROJQZ",
        "outputId": "15c04f01-f11a-4c11-e868-48ebcd0c6ba4"
      },
      "source": [
        "sorted(students, key = lambda student: student[2], reverse = True)"
      ],
      "execution_count": 10,
      "outputs": [
        {
          "output_type": "execute_result",
          "data": {
            "text/plain": [
              "[('홍길동', 3.9, 20160303), ('김철수', 3.0, 20160302), ('최무선', 4.3, 20160301)]"
            ]
          },
          "metadata": {
            "tags": []
          },
          "execution_count": 10
        }
      ]
    },
    {
      "cell_type": "code",
      "metadata": {
        "colab": {
          "base_uri": "https://localhost:8080/"
        },
        "id": "QOjZvk2uOfvy",
        "outputId": "5c86932e-4696-4f26-e82f-9252f4d5811d"
      },
      "source": [
        "import random\n",
        "myList = [[x] for x in range(10)]\n",
        "random.shuffle(myList)\n",
        "myList"
      ],
      "execution_count": 11,
      "outputs": [
        {
          "output_type": "execute_result",
          "data": {
            "text/plain": [
              "[[0], [6], [1], [9], [5], [2], [3], [4], [8], [7]]"
            ]
          },
          "metadata": {
            "tags": []
          },
          "execution_count": 11
        }
      ]
    },
    {
      "cell_type": "code",
      "metadata": {
        "colab": {
          "base_uri": "https://localhost:8080/"
        },
        "id": "0Y10gLK3O6bp",
        "outputId": "910f3e6c-af5f-47a6-9c7e-cda331a45fc7"
      },
      "source": [
        "for i in range(3):\n",
        "  print(random.randrange(0, 101, 3))"
      ],
      "execution_count": 13,
      "outputs": [
        {
          "output_type": "stream",
          "text": [
            "18\n",
            "51\n",
            "24\n"
          ],
          "name": "stdout"
        }
      ]
    },
    {
      "cell_type": "code",
      "metadata": {
        "colab": {
          "base_uri": "https://localhost:8080/"
        },
        "id": "fjasehCEPkhY",
        "outputId": "642155fc-1971-4f7e-ce42-3c1023d8d5c4"
      },
      "source": [
        "print(random.randint(1, 6))"
      ],
      "execution_count": 17,
      "outputs": [
        {
          "output_type": "stream",
          "text": [
            "2\n"
          ],
          "name": "stdout"
        }
      ]
    },
    {
      "cell_type": "code",
      "metadata": {
        "colab": {
          "base_uri": "https://localhost:8080/"
        },
        "id": "YY_KzbD_PpQq",
        "outputId": "9bf3c832-341c-4fb3-fe71-e5ec174a2d1c"
      },
      "source": [
        "print(random.randint(1, 6))"
      ],
      "execution_count": 18,
      "outputs": [
        {
          "output_type": "stream",
          "text": [
            "1\n"
          ],
          "name": "stdout"
        }
      ]
    },
    {
      "cell_type": "code",
      "metadata": {
        "colab": {
          "base_uri": "https://localhost:8080/"
        },
        "id": "v_vMpW2dPtK5",
        "outputId": "3b7b8da6-78aa-463c-9c50-8fa986e154cf"
      },
      "source": [
        "print(random.random()*100)"
      ],
      "execution_count": 20,
      "outputs": [
        {
          "output_type": "stream",
          "text": [
            "97.72919366312934\n"
          ],
          "name": "stdout"
        }
      ]
    },
    {
      "cell_type": "code",
      "metadata": {
        "colab": {
          "base_uri": "https://localhost:8080/",
          "height": 35
        },
        "id": "E1bN0K9iPznZ",
        "outputId": "f0aca2a4-3a8e-4402-87e5-45897197d368"
      },
      "source": [
        "myList = [\"red\", \"green\", \"blue\"]\n",
        "random.choice(myList)"
      ],
      "execution_count": 22,
      "outputs": [
        {
          "output_type": "execute_result",
          "data": {
            "application/vnd.google.colaboratory.intrinsic+json": {
              "type": "string"
            },
            "text/plain": [
              "'green'"
            ]
          },
          "metadata": {
            "tags": []
          },
          "execution_count": 22
        }
      ]
    },
    {
      "cell_type": "code",
      "metadata": {
        "colab": {
          "base_uri": "https://localhost:8080/",
          "height": 35
        },
        "id": "1X3TFmhoPHAw",
        "outputId": "5b340247-dfd6-4e76-aeeb-9addc7d0deeb"
      },
      "source": [
        "import time\n",
        "time.asctime()"
      ],
      "execution_count": 14,
      "outputs": [
        {
          "output_type": "execute_result",
          "data": {
            "application/vnd.google.colaboratory.intrinsic+json": {
              "type": "string"
            },
            "text/plain": [
              "'Thu Apr 15 11:13:42 2021'"
            ]
          },
          "metadata": {
            "tags": []
          },
          "execution_count": 14
        }
      ]
    },
    {
      "cell_type": "code",
      "metadata": {
        "colab": {
          "base_uri": "https://localhost:8080/"
        },
        "id": "gICiq7TjPLXQ",
        "outputId": "79b3b810-bdcb-4bad-e592-3faa7d300edf"
      },
      "source": [
        "time.localtime()"
      ],
      "execution_count": 15,
      "outputs": [
        {
          "output_type": "execute_result",
          "data": {
            "text/plain": [
              "time.struct_time(tm_year=2021, tm_mon=4, tm_mday=15, tm_hour=11, tm_min=13, tm_sec=59, tm_wday=3, tm_yday=105, tm_isdst=0)"
            ]
          },
          "metadata": {
            "tags": []
          },
          "execution_count": 15
        }
      ]
    },
    {
      "cell_type": "code",
      "metadata": {
        "colab": {
          "base_uri": "https://localhost:8080/"
        },
        "id": "uCNQomECPQmN",
        "outputId": "6dd374f8-e21a-4fc7-a20c-35a8647d5ae5"
      },
      "source": [
        "import calendar\n",
        "\n",
        "cal = calendar.month(2021, 4)\n",
        "print(cal)"
      ],
      "execution_count": 16,
      "outputs": [
        {
          "output_type": "stream",
          "text": [
            "     April 2021\n",
            "Mo Tu We Th Fr Sa Su\n",
            "          1  2  3  4\n",
            " 5  6  7  8  9 10 11\n",
            "12 13 14 15 16 17 18\n",
            "19 20 21 22 23 24 25\n",
            "26 27 28 29 30\n",
            "\n"
          ],
          "name": "stdout"
        }
      ]
    },
    {
      "cell_type": "code",
      "metadata": {
        "colab": {
          "base_uri": "https://localhost:8080/",
          "height": 441
        },
        "id": "EjzkimemQrOl",
        "outputId": "6d8b5d71-249c-4045-9221-c2c6918d014a"
      },
      "source": [
        "from sklearn.tree import DecisionTreeRegressor\n",
        "import pandas as pd\n",
        "import matplotlib.pyplot as plt\n",
        "\n",
        "from google.colab import drive\n",
        "drive.mount('/content/gdrive')\n",
        "df = pd.read_csv('/content/gdrive/MyDrive/Data/housing.data', header=None, sep='\\s+')\n",
        "\n",
        "df.columns = ['CRIM', 'ZN', 'INDUS', 'CHAS', 'NOX', 'RM', 'AGE', 'DIS', 'RAD', 'TAX',\n",
        "              'PTRATIO', 'B', 'LSTAT', 'MEDV']\n",
        "\n",
        "print(df.head())\n",
        "X = df[['LSTAT']].values\n",
        "y = df['MEDV'].values\n",
        "\n",
        "tree = DecisionTreeRegressor(max_depth=3)\n",
        "tree.fit(X,y)\n",
        "\n",
        "sort_idx = X.flatten().argsort()\n",
        "plt.scatter(X[sort_idx], y[sort_idx], c='lightblue')\n",
        "plt.plot(X[sort_idx], tree.predict(X[sort_idx]), color='red', linewidth=2)\n",
        "plt.xlabel('LSTAT(% Lower Status of the Population')\n",
        "plt.ylabel('MEDV(Price in $1000)')\n",
        "plt.show()"
      ],
      "execution_count": 26,
      "outputs": [
        {
          "output_type": "stream",
          "text": [
            "Mounted at /content/gdrive\n",
            "      CRIM    ZN  INDUS  CHAS    NOX  ...    TAX  PTRATIO       B  LSTAT  MEDV\n",
            "0  0.00632  18.0   2.31     0  0.538  ...  296.0     15.3  396.90   4.98  24.0\n",
            "1  0.02731   0.0   7.07     0  0.469  ...  242.0     17.8  396.90   9.14  21.6\n",
            "2  0.02729   0.0   7.07     0  0.469  ...  242.0     17.8  392.83   4.03  34.7\n",
            "3  0.03237   0.0   2.18     0  0.458  ...  222.0     18.7  394.63   2.94  33.4\n",
            "4  0.06905   0.0   2.18     0  0.458  ...  222.0     18.7  396.90   5.33  36.2\n",
            "\n",
            "[5 rows x 14 columns]\n"
          ],
          "name": "stdout"
        },
        {
          "output_type": "display_data",
          "data": {
            "image/png": "[encoded data removed]",
            "text/plain": [
              "<Figure size 432x288 with 1 Axes>"
            ]
          },
          "metadata": {
            "tags": [],
            "needs_background": "light"
          }
        }
      ]
    }
  ]
}