{
  "nbformat": 4,
  "nbformat_minor": 0,
  "metadata": {
    "colab": {
      "name": "durable.ipynb",
      "provenance": [],
      "authorship_tag": "ABX9TyPmV00QnZguysPn1eHn3Y/s",
      "include_colab_link": true
    },
    "kernelspec": {
      "name": "python3",
      "display_name": "Python 3"
    },
    "language_info": {
      "name": "python"
    }
  },
  "cells": [
    {
      "cell_type": "markdown",
      "metadata": {
        "id": "view-in-github",
        "colab_type": "text"
      },
      "source": [
        "<a href=\"https://colab.research.google.com/github/Yunkoo-GIT/Programming/blob/main/durable.ipynb\" target=\"_parent\"><img src=\"https://colab.research.google.com/assets/colab-badge.svg\" alt=\"Open In Colab\"/></a>"
      ]
    },
    {
      "cell_type": "code",
      "metadata": {
        "colab": {
          "base_uri": "https://localhost:8080/"
        },
        "id": "7FAvaOYUSUK1",
        "outputId": "fd1bbfc1-57f5-4354-aca0-c30685df7133"
      },
      "source": [
        "!pip install durable_rules"
      ],
      "execution_count": 1,
      "outputs": [
        {
          "output_type": "stream",
          "text": [
            "Collecting durable_rules\n",
            "\u001b[?25l  Downloading https://files.pythonhosted.org/packages/91/f2/3194b4eaf7260bae0a4f046dfdda5db2ed9d58b3d7a051e375b3c14d8f26/durable_rules-2.0.28.tar.gz (57kB)\n",
            "\r\u001b[K     |█████▊                          | 10kB 15.1MB/s eta 0:00:01\r\u001b[K     |███████████▍                    | 20kB 21.1MB/s eta 0:00:01\r\u001b[K     |█████████████████               | 30kB 17.7MB/s eta 0:00:01\r\u001b[K     |██████████████████████▊         | 40kB 20.4MB/s eta 0:00:01\r\u001b[K     |████████████████████████████▌   | 51kB 22.4MB/s eta 0:00:01\r\u001b[K     |████████████████████████████████| 61kB 6.7MB/s \n",
            "\u001b[?25hBuilding wheels for collected packages: durable-rules\n",
            "  Building wheel for durable-rules (setup.py) ... \u001b[?25l\u001b[?25hdone\n",
            "  Created wheel for durable-rules: filename=durable_rules-2.0.28-cp37-cp37m-linux_x86_64.whl size=176352 sha256=bda0be683a89b8e03ce981033e705ab54606599d5c02abfa0971109306e8257f\n",
            "  Stored in directory: /root/.cache/pip/wheels/97/f5/6b/dabbc5d4c2571374b0e0c49d8c80c449220d3061c20b057ba4\n",
            "Successfully built durable-rules\n",
            "Installing collected packages: durable-rules\n",
            "Successfully installed durable-rules-2.0.28\n"
          ],
          "name": "stdout"
        }
      ]
    },
    {
      "cell_type": "code",
      "metadata": {
        "colab": {
          "base_uri": "https://localhost:8080/"
        },
        "id": "Jgca8U_JUBjh",
        "outputId": "0a7af212-f1fb-4668-be87-656b57c25b5c"
      },
      "source": [
        "from durable.lang import *\n",
        "\n",
        "with ruleset('Machine'):\n",
        "    @when_all((m.predicate == '안켜진다') & (m.object == '전원이'))\n",
        "    def check1(c):\n",
        "        c.assert_fact({ 'subject': c.m.subject, 'predicate': '확인한다', 'object': '전원코드를' })\n",
        "\t\t\n",
        "    @when_all((m.predicate == '안켜진다') & (m.object == '전원이'))\n",
        "    def check2(c):\n",
        "        c.assert_fact({ 'subject': c.m.subject, 'predicate': '확인한다', 'object': '파워서플라이를' })\n",
        "\n",
        "    @when_all((m.predicate == '안된다') & (m.object == '통신이'))\n",
        "    def check3(c):\n",
        "        c.assert_fact({ 'subject': c.m.subject, 'predicate': '확인한다', 'object': 'Cable을' })\n",
        "\n",
        "    @when_all((m.predicate == '안된다') & (m.object == '통신이'))\n",
        "    def check4(c):\n",
        "        c.assert_fact({ 'subject': c.m.subject, 'predicate': '확인한다', 'object': 'Port의 LED를' })\n",
        "\n",
        "    @when_all((m.predicate == '안된다') & (m.object == '통신이'))\n",
        "    def check5(c):\n",
        "        c.assert_fact({ 'subject': c.m.subject, 'predicate': '확인한다', 'object': 'IP를' })\n",
        "\n",
        "    @when_all((m.predicate == '안된다') & (m.object == '통신이'))\n",
        "    def check6(c):\n",
        "        c.assert_fact({ 'subject': c.m.subject, 'predicate': '해본다', 'object': 'Ping테스트를' })\n",
        "\n",
        "    @when_all((m.predicate == '안된다') & (m.object == '입력이'))\n",
        "    def check7(c):\n",
        "        c.assert_fact({ 'subject': c.m.subject, 'predicate': '재연결해본다', 'object': '입력장치를' })\n",
        "\n",
        "    @when_all((m.predicate == '안된다') & (m.object == '입력이'))\n",
        "    def check8(c):\n",
        "        c.assert_fact({ 'subject': c.m.subject, 'predicate': '해본다', 'object': '원격접속을' })\n",
        "\t\t\n",
        "    @when_all((m.predicate == '안된다') & (m.object == '입력이'))\n",
        "    def check9(c):\n",
        "        c.assert_fact({ 'subject': c.m.subject, 'predicate': '재기동한다', 'object': '강제로' })\n",
        "\n",
        "    @when_all((m.predicate == '느리다') & (m.object == '속도가'))\n",
        "    def check10(c):\n",
        "        c.assert_fact({ 'subject': c.m.subject, 'predicate': '체크한다', 'object': 'Process를' })\n",
        "\n",
        "    @when_all((m.predicate == '느리다') & (m.object == '속도가'))\n",
        "    def check11(c):\n",
        "        c.assert_fact({ 'subject': c.m.subject, 'predicate': 'Kill한다', 'object': '사용량이 많은 Process를' })\n",
        "\n",
        "    @when_all((m.predicate == '느리다') & (m.object == '속도가'))\n",
        "    def check12(c):\n",
        "        c.assert_fact({ 'subject': c.m.subject, 'predicate': '재기동한다', 'object': '데몬을' })\n",
        "\n",
        "    @when_all((m.predicate == '안된다') & (m.object == '부팅이'))\n",
        "    def check13(c):\n",
        "        c.assert_fact({ 'subject': c.m.subject, 'predicate': '확인한다', 'object': 'DISK의 LED를' })\n",
        "\n",
        "    @when_all((m.predicate == '안된다') & (m.object == '부팅이'))\n",
        "    def check14(c):\n",
        "        c.assert_fact({ 'subject': c.m.subject, 'predicate': '해본다', 'object': 'Single 부팅을' })\n",
        "\t\t\n",
        "    @when_all((m.predicate == '안된다') & (m.object == '부팅이'))\n",
        "    def check15(c):\n",
        "        c.assert_fact({ 'subject': c.m.subject, 'predicate': '복구한다', 'object': 'Backup본으로' })\n",
        "\t\t\n",
        "    @when_all(+m.subject)\n",
        "    def output(c):\n",
        "        print('Fact: {0} {1} {2}'.format(c.m.subject, c.m.object, c.m.predicate, ))\n",
        "\n",
        "\n",
        "assert_fact('Machine', { 'subject': 'Server', 'object': '입력이', 'predicate': '안된다' })\n",
        "assert_fact('Machine', { 'subject': 'Service', 'object': '속도가', 'predicate': '느리다' })\n",
        "assert_fact('Machine', { 'subject': 'Server', 'object': '전원이', 'predicate': '안켜진다' })\n",
        "assert_fact('Machine', { 'subject': 'OS', 'object': '부팅이', 'predicate': '안된다' })\n",
        "assert_fact('Machine', { 'subject': 'Server', 'object': '통신이', 'predicate': '안된다' })  "
      ],
      "execution_count": 1,
      "outputs": [
        {
          "output_type": "stream",
          "text": [
            "Fact: Server 강제로 재기동한다\n",
            "Fact: Server 원격접속을 해본다\n",
            "Fact: Server 입력장치를 재연결해본다\n",
            "Fact: Server 입력이 안된다\n",
            "Fact: Service 데몬을 재기동한다\n",
            "Fact: Service 사용량이 많은 Process를 Kill한다\n",
            "Fact: Service Process를 체크한다\n",
            "Fact: Service 속도가 느리다\n",
            "Fact: Server 파워서플라이를 확인한다\n",
            "Fact: Server 전원코드를 확인한다\n",
            "Fact: Server 전원이 안켜진다\n",
            "Fact: OS Backup본으로 복구한다\n",
            "Fact: OS Single 부팅을 해본다\n",
            "Fact: OS DISK의 LED를 확인한다\n",
            "Fact: OS 부팅이 안된다\n",
            "Fact: Server Ping테스트를 해본다\n",
            "Fact: Server IP를 확인한다\n",
            "Fact: Server Port의 LED를 확인한다\n",
            "Fact: Server Cable을 확인한다\n",
            "Fact: Server 통신이 안된다\n"
          ],
          "name": "stdout"
        },
        {
          "output_type": "execute_result",
          "data": {
            "text/plain": [
              "{'$s': 1, 'id': 'sid-0', 'sid': '0'}"
            ]
          },
          "metadata": {
            "tags": []
          },
          "execution_count": 1
        }
      ]
    }
  ]
}